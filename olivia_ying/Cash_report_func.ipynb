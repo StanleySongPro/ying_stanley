{
 "cells": [
  {
   "cell_type": "markdown",
   "metadata": {},
   "source": [
    "# Functions"
   ]
  },
  {
   "cell_type": "code",
   "execution_count": 5,
   "metadata": {},
   "outputs": [],
   "source": [
    "# in_principal\n",
    "\n",
    "def in_principal(Acc_nm): # Acc_nm是输入文件的第一列\n",
    "    if 'FAM GO PLUS FUND' in Acc_nm:\n",
    "        return 'FGOPLUS'\n",
    "    elif 'FAM GO FUND' in Acc_nm:\n",
    "        return 'FGO'"
   ]
  },
  {
   "cell_type": "code",
   "execution_count": null,
   "metadata": {},
   "outputs": [],
   "source": [
    "# 在运行 in_book function 之前要在主体里有 currency 这一列\n"
   ]
  },
  {
   "cell_type": "code",
   "execution_count": 2,
   "metadata": {},
   "outputs": [],
   "source": [
    "# in_book\n",
    "\n",
    "\n",
    "def in_book(Acc_nm):\n",
    "    for i in range(len(Acc_nm)):\n",
    "        if 'S&R' in Acc_nm:\n",
    "            return \"_SNR_{}\".format(currency[i])\n",
    "        else:\n",
    "            return \"_BK\"\n",
    "            \n",
    "# df['in_book']=df['in_principal'] + df_in['Account Name'].apply(in_book)         "
   ]
  },
  {
   "cell_type": "code",
   "execution_count": 1,
   "metadata": {},
   "outputs": [],
   "source": [
    "# in_pay_rcv\n",
    "\n",
    "def in_payrcv(inputStr):    \n",
    "    for item in inputStr:\n",
    "        if item=='Credit':\n",
    "            return 'R'\n",
    "        elif item=='Debit':\n",
    "            return 'P'"
   ]
  },
  {
   "cell_type": "code",
   "execution_count": 2,
   "metadata": {},
   "outputs": [
    {
     "ename": "NameError",
     "evalue": "name 'Event_type' is not defined",
     "output_type": "error",
     "traceback": [
      "\u001b[0;31m---------------------------------------------------------------------------\u001b[0m",
      "\u001b[0;31mNameError\u001b[0m                                 Traceback (most recent call last)",
      "\u001b[0;32m<ipython-input-2-e899caa9e49c>\u001b[0m in \u001b[0;36m<module>\u001b[0;34m\u001b[0m\n\u001b[1;32m      1\u001b[0m \u001b[0;31m# in_event_type\u001b[0m\u001b[0;34m\u001b[0m\u001b[0;34m\u001b[0m\u001b[0;34m\u001b[0m\u001b[0m\n\u001b[1;32m      2\u001b[0m \u001b[0;32mfrom\u001b[0m \u001b[0mcollections\u001b[0m \u001b[0;32mimport\u001b[0m \u001b[0mCounter\u001b[0m\u001b[0;34m\u001b[0m\u001b[0;34m\u001b[0m\u001b[0m\n\u001b[0;32m----> 3\u001b[0;31m \u001b[0;32mdef\u001b[0m \u001b[0mevent_type_map\u001b[0m\u001b[0;34m(\u001b[0m\u001b[0minputStr\u001b[0m\u001b[0;34m,\u001b[0m \u001b[0mEvent_type\u001b[0m \u001b[0;34m=\u001b[0m \u001b[0mEvent_type\u001b[0m\u001b[0;34m)\u001b[0m\u001b[0;34m:\u001b[0m\u001b[0;34m\u001b[0m\u001b[0;34m\u001b[0m\u001b[0m\n\u001b[0m\u001b[1;32m      4\u001b[0m     \u001b[0;32mtry\u001b[0m\u001b[0;34m:\u001b[0m\u001b[0;34m\u001b[0m\u001b[0;34m\u001b[0m\u001b[0m\n\u001b[1;32m      5\u001b[0m         \u001b[0;32mreturn\u001b[0m \u001b[0;34m[\u001b[0m\u001b[0mv\u001b[0m \u001b[0;32mfor\u001b[0m \u001b[0mk\u001b[0m\u001b[0;34m,\u001b[0m \u001b[0mv\u001b[0m \u001b[0;32min\u001b[0m \u001b[0mEvent_type\u001b[0m\u001b[0;34m.\u001b[0m\u001b[0mitems\u001b[0m\u001b[0;34m(\u001b[0m\u001b[0;34m)\u001b[0m \u001b[0;32mif\u001b[0m \u001b[0mk\u001b[0m\u001b[0;34m.\u001b[0m\u001b[0mlower\u001b[0m\u001b[0;34m(\u001b[0m\u001b[0;34m)\u001b[0m \u001b[0;32min\u001b[0m \u001b[0minputStr\u001b[0m\u001b[0;34m.\u001b[0m\u001b[0mlower\u001b[0m\u001b[0;34m(\u001b[0m\u001b[0;34m)\u001b[0m\u001b[0;34m]\u001b[0m\u001b[0;34m[\u001b[0m\u001b[0;36m0\u001b[0m\u001b[0;34m]\u001b[0m\u001b[0;34m\u001b[0m\u001b[0;34m\u001b[0m\u001b[0m\n",
      "\u001b[0;31mNameError\u001b[0m: name 'Event_type' is not defined"
     ]
    }
   ],
   "source": [
    "# in_event_type\n",
    "from collections import Counter\n",
    "def event_type_map(inputStr, Event_type = Event_type):\n",
    "    try:\n",
    "        return [v for k, v in Event_type.items() if k.lower() in inputStr.lower()][0]\n",
    "    except:\n",
    "        return np.nan\n",
    "\n",
    "def in_event_type(df_out, df_in):\n",
    "    df_out['in_event_type'] = df_in[\"Transaction Details\"].apply(event_type_map)\n",
    "    \n",
    "    # find the one with SSG0340 in it\n",
    "    SSG_boo_list = df_out['in_event_type'] == Event_type['SSG0340']\n",
    "    \n",
    "    # find the SSG0340 corresponding Transaction Reference\n",
    "    SSG = list(df_in[SSG_boo_list][\"Transaction Reference\"])\n",
    "    \n",
    "    # check Transaction Reference with exactly 2 occurrance\n",
    "    SSG_double_list = [k for k, v in list(Counter(SSG).items()) if v == 2]\n",
    "    \n",
    "    # filter out the one which is not in the above 2-occurrance list\n",
    "    for idx in df_out[SSG_boo_list].index:\n",
    "        if df_in.loc[idx, 'Transaction Reference'] not in SSG_double_list:\n",
    "            df_out.loc[idx, 'in_event_type'] = np.nan\n",
    "    return df_out"
   ]
  },
  {
   "cell_type": "code",
   "execution_count": 27,
   "metadata": {},
   "outputs": [],
   "source": [
    "# in_event_date\n",
    "\n",
    "\n",
    "Pub_holiday=[\n",
    "    '01/01/2019',\n",
    "    '05/02/2019',\n",
    "    '06/03/2019',\n",
    "    '19/04/2019',\n",
    "    '01/05/2019',\n",
    "    '20/05/2019',\n",
    "    '05/06/2019',\n",
    "    '09/08/2019',\n",
    "    '12/08/2019',\n",
    "    '28/10/2019',\n",
    "    '25/12/2019'\n",
    "]\n",
    "\n",
    "\n",
    "\n",
    "def get_bzday(inputDate, Pub_holiday = Pub_holiday):\n",
    "    PH_dateobj = []\n",
    "    for date in Pub_holiday:\n",
    "        d,m,y = (int(i) for i in date.split('/'))\n",
    "        PH_dateobj.append(datetime.datetime(y,m,d))\n",
    "\n",
    "    day, month, year = inputDate.split('/')\n",
    "    dateobj = datetime.datetime(int(year), int(month), int(day))\n",
    "\n",
    "    while dateobj in PH_dateobj or dateobj.isoweekday()>5:    \n",
    "        dateobj += datetime.timedelta(days=1)\n",
    "        \n",
    "   # y,m,d = str(dateobj.year), str(dateobj.month), str(dateobj.day)\n",
    "    return dateobj.strftime(\"%d%/%m%/%Y\")\n"
   ]
  },
  {
   "cell_type": "code",
   "execution_count": null,
   "metadata": {},
   "outputs": [],
   "source": []
  },
  {
   "cell_type": "markdown",
   "metadata": {},
   "source": [
    "###  insert_rows\n",
    "def insert_rows(self, idx, amount=1):\n",
    "    \"\"\"\n",
    "    Insert row or rows before row==idx\n",
    "    \"\"\"\n",
    "    self._move_cells(min_row=idx, offset=amount, row_or_col=\"row\")\n",
    "    self._current_row = self.max_row"
   ]
  },
  {
   "cell_type": "code",
   "execution_count": null,
   "metadata": {},
   "outputs": [],
   "source": []
  },
  {
   "cell_type": "code",
   "execution_count": null,
   "metadata": {},
   "outputs": [],
   "source": []
  }
 ],
 "metadata": {
  "kernelspec": {
   "display_name": "Python 3",
   "language": "python",
   "name": "python3"
  },
  "language_info": {
   "codemirror_mode": {
    "name": "ipython",
    "version": 3
   },
   "file_extension": ".py",
   "mimetype": "text/x-python",
   "name": "python",
   "nbconvert_exporter": "python",
   "pygments_lexer": "ipython3",
   "version": "3.6.7"
  }
 },
 "nbformat": 4,
 "nbformat_minor": 2
}
