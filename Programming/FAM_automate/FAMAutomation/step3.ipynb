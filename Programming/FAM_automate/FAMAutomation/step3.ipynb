{
 "cells": [
  {
   "cell_type": "code",
   "execution_count": 2,
   "metadata": {},
   "outputs": [
    {
     "name": "stdout",
     "output_type": "stream",
     "text": [
      "Excel library version: 16.0\n"
     ]
    }
   ],
   "source": [
    "import sys, os\n",
    "import win32com.client\n",
    " \n",
    "xlApp = win32com.client.Dispatch(\"Excel.Application\")\n",
    "print(\"Excel library version:\", xlApp.Version)\n",
    "# filename,password = 'C:myfilesfoo.xls', 'qwerty12'\n",
    "# xlwb = xlApp.Workbooks.Open(\"filename.xls\", 2, True, None, None, \"secret\")"
   ]
  },
  {
   "cell_type": "code",
   "execution_count": 3,
   "metadata": {},
   "outputs": [
    {
     "data": {
      "text/plain": [
       "'C:\\\\Users\\\\Zhou YingYing\\\\Google Drive\\\\Github\\\\FAM_automation'"
      ]
     },
     "execution_count": 3,
     "metadata": {},
     "output_type": "execute_result"
    }
   ],
   "source": [
    "BASE = os.getcwd()\n",
    "BASE"
   ]
  },
  {
   "cell_type": "code",
   "execution_count": 4,
   "metadata": {},
   "outputs": [
    {
     "data": {
      "text/plain": [
       "'C:\\\\Users\\\\Zhou YingYing\\\\Google Drive\\\\Github\\\\FAM_automation\\\\DailyBAL_211391500.xls'"
      ]
     },
     "execution_count": 4,
     "metadata": {},
     "output_type": "execute_result"
    }
   ],
   "source": [
    "filename = os.path.join(BASE, r'DailyBAL_211391500.xls')\n",
    "filename"
   ]
  },
  {
   "cell_type": "code",
   "execution_count": 18,
   "metadata": {},
   "outputs": [
    {
     "data": {
      "text/plain": [
       "['.git',\n",
       " '.ipynb_checkpoints',\n",
       " '2019-07-06_13-35-15',\n",
       " 'archived.ipynb',\n",
       " 'codeofopsautomation',\n",
       " 'codeofopsautomation.zip',\n",
       " 'DailyBAL_211391500.xls',\n",
       " 'DailyBAL_211391500.xlsx',\n",
       " 'DailyBAL_91026626',\n",
       " 'DailyBAL_91026626.zip',\n",
       " 'step3.ipynb']"
      ]
     },
     "execution_count": 18,
     "metadata": {},
     "output_type": "execute_result"
    }
   ],
   "source": [
    "os.listdir()"
   ]
  },
  {
   "cell_type": "code",
   "execution_count": 7,
   "metadata": {},
   "outputs": [],
   "source": [
    "password = '123'\n",
    "xlwb = xlApp.Workbooks.Open(\n",
    "    Filename=filename,\n",
    "#     UpdateLinks=2, \n",
    "#     ReadOnly=True, \n",
    "#     Format=None,\n",
    "    ReadOnly = False,\n",
    "    Password=password,\n",
    "    WriteResPassword=password)"
   ]
  },
  {
   "cell_type": "code",
   "execution_count": 43,
   "metadata": {},
   "outputs": [],
   "source": [
    "xlApp.Interactive = False\n",
    "xlApp.Visible = True"
   ]
  },
  {
   "cell_type": "markdown",
   "metadata": {},
   "source": [
    "#### [操作excel](https://blog.csdn.net/meylovezn/article/details/17533197)\n",
    "#### [python win32com 遇到的一个奇怪的错误](https://blog.csdn.net/ginynu/article/details/55057291)"
   ]
  },
  {
   "cell_type": "code",
   "execution_count": 22,
   "metadata": {
    "scrolled": true
   },
   "outputs": [],
   "source": [
    "#help(xlwb)"
   ]
  },
  {
   "cell_type": "code",
   "execution_count": 23,
   "metadata": {},
   "outputs": [],
   "source": [
    "from datetime import datetime"
   ]
  },
  {
   "cell_type": "markdown",
   "metadata": {},
   "source": []
  },
  {
   "cell_type": "code",
   "execution_count": 53,
   "metadata": {},
   "outputs": [
    {
     "name": "stdout",
     "output_type": "stream",
     "text": [
      "decrypt success![123]\n",
      "None\n"
     ]
    }
   ],
   "source": [
    "def excel_decrypt(src_file, password='123', del_src=False):\n",
    "    xlapp = win32com.client.Dispatch(\"Excel.Application\")\n",
    "    wb = xlapp.Workbooks.Open(src_file, False, True, None, Password=password)\n",
    "    BASE = os.getcwd()\n",
    "    file_name = 'DailyBAL_211391500.xls'\n",
    "    # file_name = src_file.split(\"\\\\\")[-1]\n",
    "    # file_location = src_file[0:(len(src_file) - len(file_name))]\n",
    "    save_path = os.path.join(BASE, (\"(decrypted)\" + file_name))\n",
    "    xlapp.DisplayAlerts = False\n",
    "    xlapp.ActiveWorkbook.SaveAs(save_path, None, \"\", \"\")\n",
    "    wb.Close()\n",
    "    xlapp.Quit()\n",
    "    flag = True\n",
    "    print(\"decrypt success![%s]\" % password)\n",
    "    \n",
    "    if del_src:\n",
    "        try:\n",
    "            os.remove(src_file)\n",
    "            print(\"origin file delete success![%s]\" % src_file)\n",
    "        #except Exception as e:\n",
    "         #   print(\"origin file delete failed![%s]\" % src_file, repr(e))\n",
    "        #break\n",
    "        except Exception as e:\n",
    "            print(\"wrong password![%s]\" % password, repr(e))\n",
    "    \n",
    "        return flag\n",
    "\n",
    "\n",
    "if __name__ == \"__main__\":\n",
    "    print(excel_decrypt('C:\\\\Users\\\\Zhou YingYing\\\\Google Drive\\\\Github\\\\FAM_automation\\\\DailyBAL_211391500.xls', password=\"123\", del_src=False))\n",
    "        #print(excel_decrypt(r\"C:\\Users\\eason\\Desktop\\test\\decrypt\\t2.xlsx\", password=\"111111,123456,121212\", del_src=True))"
   ]
  },
  {
   "cell_type": "code",
   "execution_count": null,
   "metadata": {},
   "outputs": [],
   "source": []
  },
  {
   "cell_type": "code",
   "execution_count": null,
   "metadata": {},
   "outputs": [],
   "source": [
    "def M_D(a=None,b=None,c=None):\n",
    "    for i in range(len(a)):\n",
    "        if a[i] * b[i] == c[i]:\n",
    "            return 'M'\n",
    "        elif a[i] / b[i] == c[i]:\n",
    "            return 'D'"
   ]
  },
  {
   "cell_type": "code",
   "execution_count": 6,
   "metadata": {},
   "outputs": [],
   "source": [
    "a_list = [4,6,8]\n",
    "b_list = [2,3,4]\n",
    "c_list = [8,2,1]"
   ]
  },
  {
   "cell_type": "code",
   "execution_count": 7,
   "metadata": {},
   "outputs": [],
   "source": [
    "def M_D(a=None,b=None,c=None, myrange=None):\n",
    "    if abs(a*b-c)<myrange:\n",
    "        return 'M'\n",
    "    elif abs(a/b-c)<myrange:\n",
    "        return 'D'\n",
    "    else:\n",
    "        return None"
   ]
  },
  {
   "cell_type": "code",
   "execution_count": 9,
   "metadata": {},
   "outputs": [
    {
     "data": {
      "text/plain": [
       "['M', 'D', None]"
      ]
     },
     "execution_count": 9,
     "metadata": {},
     "output_type": "execute_result"
    }
   ],
   "source": [
    "d_list = [M_D(a,b,c,myrange=1) for a,b,c in zip(a_list, b_list, c_list)]\n",
    "d_list"
   ]
  },
  {
   "cell_type": "code",
   "execution_count": null,
   "metadata": {},
   "outputs": [],
   "source": [
    "df_out['in_xrate_mdv_ind'] = [M_D(a,b,c,myrange=10) for a,b,c in zip(\n",
    "    list(df_out['in_pay_net_ccy_amt']), \n",
    "    list(df_out['in_xrate']),\n",
    "    list(df_out['in_rcv_net_ccy_amt']),\n",
    ")]"
   ]
  },
  {
   "cell_type": "code",
   "execution_count": null,
   "metadata": {},
   "outputs": [],
   "source": []
  },
  {
   "cell_type": "code",
   "execution_count": null,
   "metadata": {},
   "outputs": [],
   "source": []
  }
 ],
 "metadata": {
  "kernelspec": {
   "display_name": "Python 3",
   "language": "python",
   "name": "python3"
  },
  "language_info": {
   "codemirror_mode": {
    "name": "ipython",
    "version": 3
   },
   "file_extension": ".py",
   "mimetype": "text/x-python",
   "name": "python",
   "nbconvert_exporter": "python",
   "pygments_lexer": "ipython3",
   "version": "3.7.3"
  }
 },
 "nbformat": 4,
 "nbformat_minor": 2
}
