{
 "cells": [
  {
   "cell_type": "markdown",
   "metadata": {},
   "source": [
    "# EXCEL copy & paste(https://blog.csdn.net/adermxl/article/details/9295691)"
   ]
  },
  {
   "cell_type": "code",
   "execution_count": 1,
   "metadata": {},
   "outputs": [],
   "source": [
    "import xlwt\n",
    "import xlrd\n",
    "from xlrd import open_workbook\n",
    "from xlutils.copy import copy"
   ]
  },
  {
   "cell_type": "markdown",
   "metadata": {},
   "source": [
    "### xlutils.copy(https://xlutils.readthedocs.io/en/latest/copy.html)"
   ]
  },
  {
   "cell_type": "code",
   "execution_count": 6,
   "metadata": {},
   "outputs": [],
   "source": [
    "import os"
   ]
  },
  {
   "cell_type": "code",
   "execution_count": 7,
   "metadata": {},
   "outputs": [
    {
     "data": {
      "text/plain": [
       "'C:\\\\Users\\\\FAM01\\\\Google Drive\\\\FAMAutomation'"
      ]
     },
     "execution_count": 7,
     "metadata": {},
     "output_type": "execute_result"
    }
   ],
   "source": [
    "os.getcwd()"
   ]
  },
  {
   "cell_type": "code",
   "execution_count": 19,
   "metadata": {},
   "outputs": [
    {
     "data": {
      "text/plain": [
       "['.ipynb_checkpoints',\n",
       " '.spyproject',\n",
       " '.vscode',\n",
       " 'AFGLOF NAV at Series Level_10092019lgh.xls',\n",
       " 'att_folder',\n",
       " 'config_files',\n",
       " 'Decript_NAV.py',\n",
       " 'decrypted.pdf',\n",
       " 'Email Searching.ipynb',\n",
       " 'excel for NAV check file.ipynb',\n",
       " 'FGO NAV checks.xlsx',\n",
       " 'input_folder',\n",
       " 'NAV_Download.py',\n",
       " 'new——s1.ipynb',\n",
       " 'output_folder',\n",
       " 'project_venv',\n",
       " 'S1_download.py',\n",
       " 'S2_decrypt.py',\n",
       " 'S4_mapping.py',\n",
       " 'step2.ipynb',\n",
       " 'step3.ipynb',\n",
       " 'test encrypted.pdf',\n",
       " '__init__.py',\n",
       " '__pycache__']"
      ]
     },
     "execution_count": 19,
     "metadata": {},
     "output_type": "execute_result"
    }
   ],
   "source": [
    "os.listdir()"
   ]
  },
  {
   "cell_type": "code",
   "execution_count": 14,
   "metadata": {},
   "outputs": [
    {
     "data": {
      "text/plain": [
       "14214155.26"
      ]
     },
     "execution_count": 14,
     "metadata": {},
     "output_type": "execute_result"
    }
   ],
   "source": [
    "from os.path import join\n",
    "from xlrd import open_workbook\n",
    "rb = open_workbook('AFGLOF NAV at Series Level_10092019lgh.xls', formatting_info=True, on_demand=True)\n",
    "osa = rb.sheet_by_index(0).cell(15,29).value\n",
    "osa_end = rb.sheet_by_index(0).cell(15,28).value\n",
    "osa_end"
   ]
  },
  {
   "cell_type": "code",
   "execution_count": 16,
   "metadata": {},
   "outputs": [
    {
     "data": {
      "text/plain": [
       "11980963.78"
      ]
     },
     "execution_count": 16,
     "metadata": {},
     "output_type": "execute_result"
    }
   ],
   "source": [
    "oua = rb.sheet_by_index(0).cell(23,29).value\n",
    "oua_end = rb.sheet_by_index(0).cell(23,28).value\n",
    "oua_end"
   ]
  },
  {
   "cell_type": "code",
   "execution_count": 17,
   "metadata": {},
   "outputs": [
    {
     "data": {
      "text/plain": [
       "101.097"
      ]
     },
     "execution_count": 17,
     "metadata": {},
     "output_type": "execute_result"
    }
   ],
   "source": [
    "oub = rb.sheet_by_index(0).cell(31,29).value\n",
    "oub_end = rb.sheet_by_index(0).cell(31,28).value\n",
    "oub"
   ]
  },
  {
   "cell_type": "code",
   "execution_count": 22,
   "metadata": {},
   "outputs": [],
   "source": [
    "NAV_check = open_workbook('FGO NAV checks.xlsx')"
   ]
  },
  {
   "cell_type": "code",
   "execution_count": 24,
   "metadata": {},
   "outputs": [],
   "source": [
    "Pub_holiday = [\n",
    "        \"01/01/2019\",\n",
    "        \"05/02/2019\",\n",
    "        \"06/03/2019\",\n",
    "        \"19/04/2019\",\n",
    "        \"01/05/2019\",\n",
    "        \"20/05/2019\",\n",
    "        \"05/06/2019\",\n",
    "        \"09/08/2019\",\n",
    "        \"12/08/2019\",\n",
    "        \"28/10/2019\",\n",
    "        \"25/12/2019\",\n",
    "    ]"
   ]
  },
  {
   "cell_type": "code",
   "execution_count": 40,
   "metadata": {},
   "outputs": [],
   "source": [
    "def get_bzday(inputDate=None, save_format=\"%d-%b-%y\"):\n",
    "        \"\"\"\n",
    "        寻找inputDate前一个工作日\n",
    "        \"\"\"\n",
    "        PH_dateobj = []\n",
    "        \n",
    "        for dt in Pub_holiday:\n",
    "            d, m, y = (int(i) for i in dt.split(\"/\"))\n",
    "            PH_dateobj.append(datetime.datetime(y, m, d))\n",
    "\n",
    "        if isinstance(inputDate, str):\n",
    "            day, month, year = inputDate.split(\"/\")\n",
    "            dateobj = datetime.datetime(int(year), int(month), int(day)-1)\n",
    "        elif isinstance(inputDate, datetime.datetime):\n",
    "            dateobj = inputDate\n",
    "\n",
    "        while dateobj in PH_dateobj or dateobj.isoweekday() > 5:\n",
    "            dateobj += datetime.timedelta(days=1)\n",
    "\n",
    "        # return dateobj.strftime(\"%d/%m/%Y\")\n",
    "        return dateobj.strftime(save_format)"
   ]
  },
  {
   "cell_type": "code",
   "execution_count": 60,
   "metadata": {},
   "outputs": [],
   "source": [
    "import datetime\n",
    "from datetime import date, timedelta"
   ]
  },
  {
   "cell_type": "code",
   "execution_count": 61,
   "metadata": {},
   "outputs": [
    {
     "data": {
      "text/plain": [
       "datetime.datetime(2019, 9, 11, 15, 36, 29, 111222)"
      ]
     },
     "execution_count": 61,
     "metadata": {},
     "output_type": "execute_result"
    }
   ],
   "source": [
    "yesterday = datetime.datetime.today() - timedelta(days=1)\n",
    "yesterday"
   ]
  },
  {
   "cell_type": "code",
   "execution_count": 62,
   "metadata": {},
   "outputs": [],
   "source": [
    "date = get_bzday(inputDate=yesterday)"
   ]
  },
  {
   "cell_type": "code",
   "execution_count": 63,
   "metadata": {},
   "outputs": [
    {
     "data": {
      "text/plain": [
       "'11-Sep-19'"
      ]
     },
     "execution_count": 63,
     "metadata": {},
     "output_type": "execute_result"
    }
   ],
   "source": [
    "date"
   ]
  },
  {
   "cell_type": "code",
   "execution_count": 65,
   "metadata": {
    "scrolled": true
   },
   "outputs": [],
   "source": [
    "#NAV_check.get_sheet(0).write(288,1,date)"
   ]
  },
  {
   "cell_type": "markdown",
   "metadata": {},
   "source": [
    "##### insert data in existed excel\n",
    "* insert date in first column in NAV check file\n",
    "* insert specific figure in target cell\n",
    "* insert a formula in a column\n",
    "* freeze the first row of the excel."
   ]
  },
  {
   "cell_type": "code",
   "execution_count": null,
   "metadata": {},
   "outputs": [],
   "source": []
  }
 ],
 "metadata": {
  "kernelspec": {
   "display_name": "Python 3",
   "language": "python",
   "name": "python3"
  },
  "language_info": {
   "codemirror_mode": {
    "name": "ipython",
    "version": 3
   },
   "file_extension": ".py",
   "mimetype": "text/x-python",
   "name": "python",
   "nbconvert_exporter": "python",
   "pygments_lexer": "ipython3",
   "version": "3.7.3"
  }
 },
 "nbformat": 4,
 "nbformat_minor": 2
}
