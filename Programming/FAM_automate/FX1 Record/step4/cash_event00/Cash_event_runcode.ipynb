{
 "cells": [
  {
   "cell_type": "code",
   "execution_count": 1,
   "metadata": {},
   "outputs": [],
   "source": [
    "import pandas as pd\n",
    "import numpy as np\n",
    "%run -i \"Cash_event_dict.py\"\n",
    "%run -i \"Cash_event_func.py\"\n",
    "import datetime\n",
    "import time\n",
    "date_time = datetime.datetime.now().strftime(\"%Y%m%d\")\n",
    "from collections import Counter\n",
    "import datetime\n",
    "import xlwt\n",
    "import xlrd\n",
    "import xdrlib,sys"
   ]
  },
  {
   "cell_type": "markdown",
   "metadata": {},
   "source": [
    "### Choose the file path"
   ]
  },
  {
   "cell_type": "code",
   "execution_count": 5,
   "metadata": {},
   "outputs": [],
   "source": [
    "import os\n",
    "BASE = r\"/Users/olivia/Desktop/cash_event00\"\n",
    "file = r\"/Users/olivia/Desktop/cash_event00/DailyBAL_207267827.xls\"\n",
    "os.chdir(BASE)"
   ]
  },
  {
   "cell_type": "markdown",
   "metadata": {},
   "source": [
    "### Choose the Input file"
   ]
  },
  {
   "cell_type": "code",
   "execution_count": 6,
   "metadata": {
    "scrolled": true
   },
   "outputs": [],
   "source": [
    "df_in=pd.read_excel(file)"
   ]
  },
  {
   "cell_type": "markdown",
   "metadata": {},
   "source": [
    "### Run the following codes"
   ]
  },
  {
   "cell_type": "code",
   "execution_count": 7,
   "metadata": {},
   "outputs": [],
   "source": [
    "df_out = pd.DataFrame(columns=['#in_principal', 'in_book', 'in_strategy', 'in_prime_broker',\n",
    "       'in_pb_account', 'in_pl_book_ccy_xrate', 'in_pl_book_ccy_xrate_mdiv',\n",
    "       'in_cpty', 'in_event_type', 'in_narrative', 'in_pay_rcv', 'in_amt',\n",
    "       'in_ccy', 'in_event_date', 'in_value_date', 'in_ident_type',\n",
    "       'in_ext_ident', 'in_inst_class', 'in_price_divisor', 'in_type',\n",
    "       'in_sec_event_id', 'in_behaviour_type', 'in_realise_difference_ind',\n",
    "       'in_logon', 'in_canc_amnd_ind', 'in_cnev_id'])"
   ]
  },
  {
   "cell_type": "code",
   "execution_count": 8,
   "metadata": {},
   "outputs": [],
   "source": [
    "df_in=df_in.dropna(subset=['Dr / Cr Indicator'])"
   ]
  },
  {
   "cell_type": "code",
   "execution_count": 9,
   "metadata": {},
   "outputs": [],
   "source": [
    "currency=[i[-3:] for i in df_in['Account Name']]\n",
    "df_out = df_output_process(df_out,df_in)\n",
    "df_out.reset_index(inplace=True, drop = True)"
   ]
  },
  {
   "cell_type": "code",
   "execution_count": 12,
   "metadata": {},
   "outputs": [
    {
     "data": {
      "text/plain": [
       "'14/05/2019'"
      ]
     },
     "execution_count": 12,
     "metadata": {},
     "output_type": "execute_result"
    }
   ],
   "source": [
    "list(df_out[\"in_event_date\"])[0]"
   ]
  },
  {
   "cell_type": "markdown",
   "metadata": {},
   "source": [
    "### Save file"
   ]
  },
  {
   "cell_type": "code",
   "execution_count": 10,
   "metadata": {},
   "outputs": [],
   "source": [
    "df_out1 = pd.DataFrame.to_csv(df_out,r'/Users/olivia/Desktop/cash_event00/daily_test.csv',index=False)\n",
    "new_book = xlwt.Workbook()\n",
    "book = new_book.add_sheet('info',cell_overwrite_ok=True)\n",
    "new_csv_file = add_data(book)\n",
    "result_file = merge(csv_name,'daily_test.csv')"
   ]
  },
  {
   "cell_type": "code",
   "execution_count": 11,
   "metadata": {},
   "outputs": [],
   "source": [
    "# remove unneccessary files\n",
    "os.remove('daily_test.csv')\n",
    "os.remove('new_book.xls')"
   ]
  },
  {
   "cell_type": "code",
   "execution_count": null,
   "metadata": {},
   "outputs": [],
   "source": []
  }
 ],
 "metadata": {
  "kernelspec": {
   "display_name": "Python 3",
   "language": "python",
   "name": "python3"
  },
  "language_info": {
   "codemirror_mode": {
    "name": "ipython",
    "version": 3
   },
   "file_extension": ".py",
   "mimetype": "text/x-python",
   "name": "python",
   "nbconvert_exporter": "python",
   "pygments_lexer": "ipython3",
   "version": "3.7.3"
  }
 },
 "nbformat": 4,
 "nbformat_minor": 2
}
