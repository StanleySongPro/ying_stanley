{
 "cells": [
  {
   "cell_type": "code",
   "execution_count": 1,
   "metadata": {},
   "outputs": [],
   "source": [
    "# in_event_type\n",
    "\n",
    "Event_type={\n",
    "    'SSG0340': 'CASH_TFR',\n",
    "    'CASH FEES': 'CASH_FEES_BANK',\n",
    "    'CFINV': 'CUST_FEE_MAN',\n",
    "    'FSINV': 'FUND_SVCES_FEE',\n",
    "    'MGMTFEE': 'MAN_FEE_MAN',\n",
    "    'TRUSTEE': 'TRUSTEE_FEE',\n",
    "    'CREDIT INTEREST': 'INT'\n",
    "}"
   ]
  },
  {
   "cell_type": "code",
   "execution_count": 2,
   "metadata": {},
   "outputs": [],
   "source": [
    "# Public holiday\n",
    "\n",
    "Pub_holiday=[\n",
    "    '01/01/2019',\n",
    "    '05/02/2019',\n",
    "    '06/03/2019',\n",
    "    '19/04/2019',\n",
    "    '01/05/2019',\n",
    "    '20/05/2019',\n",
    "    '05/06/2019',\n",
    "    '09/08/2019',\n",
    "    '12/08/2019',\n",
    "    '28/10/2019',\n",
    "    '25/12/2019'\n",
    "]\n",
    "\n"
   ]
  },
  {
   "cell_type": "code",
   "execution_count": null,
   "metadata": {},
   "outputs": [],
   "source": []
  }
 ],
 "metadata": {
  "kernelspec": {
   "display_name": "Python 3",
   "language": "python",
   "name": "python3"
  },
  "language_info": {
   "codemirror_mode": {
    "name": "ipython",
    "version": 3
   },
   "file_extension": ".py",
   "mimetype": "text/x-python",
   "name": "python",
   "nbconvert_exporter": "python",
   "pygments_lexer": "ipython3",
   "version": "3.7.3"
  }
 },
 "nbformat": 4,
 "nbformat_minor": 2
}
