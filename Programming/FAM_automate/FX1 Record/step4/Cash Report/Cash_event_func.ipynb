{
 "cells": [
  {
   "cell_type": "markdown",
   "metadata": {},
   "source": [
    "# Functions"
   ]
  },
  {
   "cell_type": "code",
   "execution_count": 5,
   "metadata": {},
   "outputs": [],
   "source": [
    "# in_principal\n",
    "\n",
    "def in_principal(Acc_nm): # Acc_nm是输入文件的第一列\n",
    "    if 'FAM GO PLUS FUND' in Acc_nm:\n",
    "        return 'FGOPLUS'\n",
    "    elif 'FAM GO FUND' in Acc_nm:\n",
    "        return 'FGO'"
   ]
  },
  {
   "cell_type": "code",
   "execution_count": null,
   "metadata": {},
   "outputs": [],
   "source": [
    "# 在运行 in_book function 之前要在主体里有 currency 这一列"
   ]
  },
  {
   "cell_type": "code",
   "execution_count": 2,
   "metadata": {},
   "outputs": [],
   "source": [
    "# in_book\n",
    "\n",
    "def in_book(Acc_nm):\n",
    "    for i in range(len(Acc_nm)):\n",
    "        if 'S&R' in Acc_nm:\n",
    "            return \"_SNR_{}\".format(currency[i])\n",
    "        else:\n",
    "            return \"_BK\"\n",
    "            \n",
    "# df['in_book']=df['in_principal'] + df_in['Account Name'].apply(in_book)         "
   ]
  },
  {
   "cell_type": "code",
   "execution_count": 1,
   "metadata": {},
   "outputs": [],
   "source": [
    "# in_pay_rcv\n",
    "\n",
    "def in_payrcv(inputStr):    \n",
    "    for item in inputStr:\n",
    "        if item=='Credit':\n",
    "            return 'R'\n",
    "        elif item=='Debit':\n",
    "            return 'P'"
   ]
  },
  {
   "cell_type": "code",
   "execution_count": 1,
   "metadata": {},
   "outputs": [],
   "source": [
    "# in_event_type\n",
    "\n",
    "from collections import Counter\n",
    "def event_type_map(inputStr, Event_type = Event_type):\n",
    "    try:\n",
    "        return [v for k, v in Event_type.items() if k.lower() in inputStr.lower()][0]\n",
    "    except:\n",
    "        return np.nan\n",
    "\n",
    "def in_event_type(df_out, df_in):\n",
    "    df_out['in_event_type'] = df_in[\"Transaction Details\"].apply(event_type_map)\n",
    "    \n",
    "    # find the one with SSG0340 in it\n",
    "    SSG_boo_list = df_out['in_event_type'] == Event_type['SSG0340']\n",
    "    \n",
    "    # find the SSG0340 corresponding Transaction Reference\n",
    "    SSG = list(df_in[SSG_boo_list][\"Transaction Reference\"])\n",
    "    \n",
    "    # check Transaction Reference with exactly 2 occurrance\n",
    "    SSG_double_list = [k for k, v in list(Counter(SSG).items()) if v == 2]\n",
    "    \n",
    "    # filter out the one which is not in the above 2-occurrance list\n",
    "    for idx in df_out[SSG_boo_list].index:\n",
    "        if df_in.loc[idx, 'Transaction Reference'] not in SSG_double_list:\n",
    "            df_out.loc[idx, 'in_event_type'] = np.nan\n",
    "    return df_out\n"
   ]
  },
  {
   "cell_type": "code",
   "execution_count": 27,
   "metadata": {},
   "outputs": [],
   "source": [
    "# in_event_date\n",
    "\n",
    "def get_bzday(inputDate, Pub_holiday = Pub_holiday):\n",
    "    PH_dateobj = []\n",
    "    for date in Pub_holiday:\n",
    "        d,m,y = (int(i) for i in date.split('/'))\n",
    "        PH_dateobj.append(datetime.datetime(y,m,d))\n",
    "\n",
    "    if isinstance(inputDate, str):\n",
    "        day, month, year = inputDate.split('/')\n",
    "        dateobj = datetime.datetime(int(year), int(month), int(day))\n",
    "    elif isinstance(inputDate, datetime.datetime):\n",
    "        dateobj = inputDate\n",
    "        \n",
    "    while dateobj in PH_dateobj or dateobj.isoweekday()>5:    \n",
    "        dateobj += datetime.timedelta(days=1)\n",
    "        \n",
    "    return dateobj.strftime(\"%d%/%m%/%Y\")\n",
    "\n",
    "\n"
   ]
  },
  {
   "cell_type": "code",
   "execution_count": null,
   "metadata": {},
   "outputs": [],
   "source": []
  },
  {
   "cell_type": "code",
   "execution_count": null,
   "metadata": {},
   "outputs": [],
   "source": []
  },
  {
   "cell_type": "code",
   "execution_count": null,
   "metadata": {},
   "outputs": [],
   "source": []
  }
 ],
 "metadata": {
  "kernelspec": {
   "display_name": "Python 3",
   "language": "python",
   "name": "python3"
  },
  "language_info": {
   "codemirror_mode": {
    "name": "ipython",
    "version": 3
   },
   "file_extension": ".py",
   "mimetype": "text/x-python",
   "name": "python",
   "nbconvert_exporter": "python",
   "pygments_lexer": "ipython3",
   "version": "3.7.3"
  }
 },
 "nbformat": 4,
 "nbformat_minor": 2
}
