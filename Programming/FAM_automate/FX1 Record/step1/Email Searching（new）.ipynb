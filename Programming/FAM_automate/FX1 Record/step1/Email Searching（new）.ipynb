{
 "cells": [
  {
   "cell_type": "code",
   "execution_count": 1,
   "metadata": {},
   "outputs": [],
   "source": [
    "import smtplib\n",
    "from email.mime.text import MIMEText\n",
    "import imaplib\n",
    "import smtplib\n",
    "from email.mime.multipart import MIMEMultipart\n",
    "from email.mime.text import MIMEText\n",
    "import email\n",
    "from datetime import datetime\n",
    "import time\n",
    "import re\n",
    "import pandas as pd\n",
    "import numpy as np\n",
    "from datetime import date\n",
    "from datetime import timedelta\n",
    "from IPython.display import clear_output\n",
    "import smtplib\n",
    "from email.mime.application import MIMEApplication\n",
    "import os\n",
    "#folder_path = r\"/Users/olivia/Desktop/Testfile\"\n",
    "#os.chdir(folder_path)"
   ]
  },
  {
   "cell_type": "markdown",
   "metadata": {},
   "source": [
    "### General functions"
   ]
  },
  {
   "cell_type": "code",
   "execution_count": 1,
   "metadata": {},
   "outputs": [],
   "source": [
    "import re\n",
    "def Search_in(keyword, universe):\n",
    "    \"\"\"\n",
    "    search 'keyword' from 'universe'\n",
    "    \"\"\"\n",
    "    return bool(re.search(keyword, universe, re.IGNORECASE))\n",
    "# universe: \"From\" + \"Subject\" +\"To\"\n",
    "# keyword: \"cash\"-->\"Subject\"\n",
    "#               \"@sc.com\" --> \"From\"\n",
    "# firstly, i should have my universe so that i can process the next step\n",
    "# login email and search the subject and senders so that i can target my wanted email. now question is how to get email senders and subject before deconding content.\n",
    "# "
   ]
  },
  {
   "cell_type": "code",
   "execution_count": 3,
   "metadata": {},
   "outputs": [
    {
     "data": {
      "text/plain": [
       "False"
      ]
     },
     "execution_count": 3,
     "metadata": {},
     "output_type": "execute_result"
    }
   ],
   "source": []
  },
  {
   "cell_type": "code",
   "execution_count": 41,
   "metadata": {},
   "outputs": [
    {
     "name": "stdout",
     "output_type": "stream",
     "text": [
      "Help on function Search_in in module __main__:\n",
      "\n",
      "Search_in(keyword, universe)\n",
      "    search 'keyword' from 'universe'\n",
      "\n"
     ]
    }
   ],
   "source": [
    "help(Search_in)"
   ]
  },
  {
   "cell_type": "code",
   "execution_count": 7,
   "metadata": {},
   "outputs": [],
   "source": [
    "def Email_sending(\n",
    "    content = None,\n",
    "    receivers=None,\n",
    "    mail_host = 'smtp.office365.com',\n",
    "    mail_user = '***@finexisam.com',\n",
    "    mail_pass = '***',\n",
    "    sender = '***@finexisam.com',\n",
    "):\n",
    "    \"\"\"\n",
    "    send 'content' to 'receiver'\n",
    "    \"\"\"\n",
    "    message = MIMEText(content,'plain','utf-8')\n",
    "    #message['Subject'] = subject\n",
    "    message['From'] = sender \n",
    "    message['To'] = receivers[0]\n",
    "    try:\n",
    "        smtpObj = smtplib.SMTP_SSL(mail_host,465) \n",
    "#         smtpObj.connect(mail_host,465)\n",
    "#         smtpObj.ehlo()\n",
    "#         smtpObj.starttls()\n",
    "#         smtpObj.ehlo()\n",
    "        smtpObj.login(mail_user,mail_pass) \n",
    "        smtpObj.sendmail(sender,receivers,content) \n",
    "        smtpObj.quit()\n",
    "        print('Sent successfully...')\n",
    "    except Exception as e:\n",
    "        print(\"Exception : {}\".format(e))"
   ]
  },
  {
   "cell_type": "code",
   "execution_count": 9,
   "metadata": {},
   "outputs": [
    {
     "name": "stdout",
     "output_type": "stream",
     "text": [
      "Sent successfully...\n"
     ]
    }
   ],
   "source": [
    "# testing......\n",
    "mail_host = \"smtp.gmail.com\"\n",
    "mail_user = \"olivia19931019@gmail.com\"\n",
    "# mail_user = \"luge1123@gmail.com\"\n",
    "mail_pass = \"rnqbtscrqmjzcvfz\"\n",
    "# mail_pass = \"Fly@2017\"\n",
    "receivers = \"olivia19931019@gmail.com\"\n",
    "sender =  mail_user\n",
    "\n",
    "content = \"Love never fails!\"\n",
    "\n",
    "\n",
    "Email_sending(\n",
    "    content=content, \n",
    "    receivers=receivers,\n",
    "    mail_host = mail_host,\n",
    "    mail_user = mail_user,\n",
    "    mail_pass =mail_pass,\n",
    "    sender = sender,\n",
    ")"
   ]
  },
  {
   "cell_type": "code",
   "execution_count": 6,
   "metadata": {},
   "outputs": [],
   "source": [
    "def convert_str_to_datetime(date_str):\n",
    "    \"\"\"\n",
    "    convert date from string to datetime format\n",
    "    \"\"\"\n",
    "    if type(date_str)==str:\n",
    "        try:\n",
    "            date_str = datetime.strptime(date_str, '%m/%d/%Y')\n",
    "        except:\n",
    "            try:\n",
    "                date_str = datetime.strptime(date_str, '%Y-%m-%d')\n",
    "            except:\n",
    "                print(date_str, \" cannot convert to datetime\")\n",
    "    return date_str"
   ]
  },
  {
   "cell_type": "code",
   "execution_count": 92,
   "metadata": {},
   "outputs": [],
   "source": [
    "def convert_datetime_to_str(date_time):\n",
    "    \"\"\"\n",
    "    convert date from datetime format to string\n",
    "    \"\"\"\n",
    "    if type(date_time)!=str:\n",
    "        try:\n",
    "            date_time = date_time.strftime(\"%m/%d/%Y\")\n",
    "        except:\n",
    "            print('oops...')\n",
    "\n",
    "    return date_time"
   ]
  },
  {
   "cell_type": "code",
   "execution_count": 93,
   "metadata": {},
   "outputs": [
    {
     "name": "stdout",
     "output_type": "stream",
     "text": [
      "Help on built-in function strftime:\n",
      "\n",
      "strftime(...) method of datetime.datetime instance\n",
      "    format -> strftime() style string.\n",
      "\n"
     ]
    }
   ],
   "source": [
    "# 每次当你去测试一个function的时候，定义一个instance 通过该instance来call这个 function\n",
    "import datetime\n",
    "date_time = datetime.datetime(2019,6,9) #定义的instance\n",
    "\n",
    "dir(date_time)\n",
    "help(date_time.strftime)"
   ]
  },
  {
   "cell_type": "code",
   "execution_count": 89,
   "metadata": {},
   "outputs": [
    {
     "data": {
      "text/plain": [
       "str"
      ]
     },
     "execution_count": 89,
     "metadata": {},
     "output_type": "execute_result"
    }
   ],
   "source": [
    "# testing...\n",
    "t = time.localtime(time.time())\n",
    "z = time.strftime('%Y-%m-%d %H:%M:%S',t)\n",
    "# convert_datetime_to_str(t)\n",
    "type(z)"
   ]
  },
  {
   "cell_type": "code",
   "execution_count": 36,
   "metadata": {},
   "outputs": [],
   "source": [
    "def convert_table_format(DF):\n",
    "    DF = DF.reset_index(drop=True)\n",
    "    for i in DF.index:\n",
    "        DF.loc[i, 'Date'] = convert_datetime_to_str(DF.loc[i, 'Date'])\n",
    "    return DF\n",
    "\n",
    "DF['Date'].apply(convert_datetime_to_str)"
   ]
  },
  {
   "cell_type": "markdown",
   "metadata": {},
   "source": [
    "### FX1"
   ]
  },
  {
   "cell_type": "code",
   "execution_count": 100,
   "metadata": {},
   "outputs": [
    {
     "data": {
      "text/plain": [
       "'/Users/olivia/Library/Mobile Documents/com~apple~CloudDocs/.Trash/Testfile'"
      ]
     },
     "execution_count": 100,
     "metadata": {},
     "output_type": "execute_result"
    }
   ],
   "source": [
    "import os\n",
    "\n",
    "os.getcwd()"
   ]
  },
  {
   "cell_type": "code",
   "execution_count": 101,
   "metadata": {},
   "outputs": [
    {
     "data": {
      "text/plain": [
       "[]"
      ]
     },
     "execution_count": 101,
     "metadata": {},
     "output_type": "execute_result"
    }
   ],
   "source": [
    "os.listdir()"
   ]
  },
  {
   "cell_type": "code",
   "execution_count": 7,
   "metadata": {
    "collapsed": true
   },
   "outputs": [],
   "source": [
    "def email_saving(typ, data, folder_path):\n",
    "    folder_record = os.path.join(folder_path , \"FX1 Record\")\n",
    "    emailbody = data[0][1]\n",
    "    mail = email.message_from_bytes(emailbody)\n",
    "    fileName = None \n",
    "    # Retrieve attachment file name\n",
    "    for part in mail.walk():\n",
    "        if part.get_content_maintype() == 'multipart':\n",
    "            continue\n",
    "        if part.get('Content-Disposition') is None:\n",
    "            continue\n",
    "            \n",
    "        fileName = part.get_filename()  \n",
    "\n",
    "    # decode\n",
    "        try:\n",
    "            fileName = decode_header(fileName)[0][0].decode(decode_header(fileName)[0][1])\n",
    "        except:\n",
    "            pass\n",
    "        \n",
    "    # save attachment\n",
    "        if (fileName != None) & ('jpg' not in fileName):\n",
    "                    \n",
    "                filePath = os.path.join(folder_record, fileName)\n",
    "                if not os.path.isfile(filePath):\n",
    "                    fp = open(filePath, 'wb')\n",
    "                    fp.write(part.get_payload(decode=True))\n",
    "                    fp.close()\n",
    "                else:\n",
    "                    print(\"Existing File:\" + fileName)\n",
    "                    Email_sending(\"Duplicate: \" + fileName, [\"michael.ng@finexisam.com\"])\n",
    "                        \n",
    "                        \n",
    "    return fileName"
   ]
  },
  {
   "cell_type": "code",
   "execution_count": 8,
   "metadata": {
    "collapsed": true
   },
   "outputs": [],
   "source": [
    "def Check_email_FX(first_email_FX, folder_path, mail_host = 'smtp.office365.com', mail_user = '***@finexisam.com',\n",
    "                   mail_pass = '***'):\n",
    "\n",
    "    file_name = None\n",
    "            \n",
    "    # Email Login\n",
    "    smtpObj = smtplib.SMTP(mail_host,25) \n",
    "    smtpObj.connect(mail_host,587)\n",
    "    smtpObj.ehlo()\n",
    "    smtpObj.starttls()\n",
    "    smtpObj.ehlo()\n",
    "    smtpObj.login(mail_user,mail_pass)  \n",
    "    \n",
    "    # Inbox Scanning\n",
    "    client = imaplib.IMAP4_SSL(mail_host)\n",
    "    client.login(mail_user, mail_pass)\n",
    "    status, messages = client.select('INBOX')\n",
    "    \n",
    "    # Inbox Index\n",
    "    type, data = client.search(None, 'ALL')\n",
    "    mail_ids = data[0]\n",
    "    id_list = mail_ids.split()   \n",
    "    latest_email_FX = int(id_list[-1])\n",
    "\n",
    "    # Retrieve Email\n",
    "    for i in range(first_email_FX + 1, latest_email_FX + 1):\n",
    "        typ, data = client.fetch(str(i), '(RFC822)' )\n",
    "        for response_part in data:\n",
    "            if isinstance(response_part, tuple):\n",
    "                msg = email.message_from_bytes(response_part[1])\n",
    "                email_subject = msg['subject']\n",
    "                email_from = msg['from']\n",
    "\n",
    "                \n",
    "                # Check KGI Report\n",
    "                if (Search_in(\"Summary\", email_subject)) &(Search_in(\"Account\", email_subject)) &(Search_in(\"kgi\", email_from))\\\n",
    "                        & (Search_in(\"re\", email_subject)==False) & (Search_in(\"fw\", email_subject)==False):\n",
    "                    file_name = email_saving(typ, data,folder_path)\n",
    "    \n",
    "    return file_name, latest_email_FX"
   ]
  },
  {
   "cell_type": "code",
   "execution_count": null,
   "metadata": {
    "collapsed": true
   },
   "outputs": [],
   "source": [
    "def FX_FT_process(first_email_FX, folder_path, path_IB):\n",
    "    time_now = str(datetime.now())[11:16]\n",
    "    date_now = str(datetime.now())[:10]\n",
    "    week_now = datetime.now().weekday()\n",
    "    \n",
    "    if week_now < 6:   # Weekdays\n",
    "        \n",
    "        if week_now > 0:\n",
    "            # FX1 processing\n",
    "            if (time_now>\"10:00\") & (time_now<\"10:30\"):\n",
    "                print(date_now)\n",
    "                file_name, first_email_FX = Check_email_FX(first_email_FX, folder_path)\n",
    "                print(file_name)\n",
    "                print(first_email_FX)\n",
    "                FX1_record = Record_append_FX1(folder_path, file_name)\n",
    "                generate_upload_file_FX1(folder_path, FX1_record)\n",
    "                time.sleep(60*30)\n",
    "\n",
    "            # FX1 status check\n",
    "            elif (time_now>\"10:30\") & (time_now<\"11:30\"):\n",
    "                FX1_record_check = pd.read_excel(folder_path + \"\\\\FX1 Record\\\\FX1 Record.xlsx\")\n",
    "                if (datetime.today() -convert_datetime(list(FX1_record_check[\"Date\"])[-1])).days == int(np.where(week_now == 0,3,1)):\n",
    "                    print(\"Upload file prepared successfully!\")\n",
    "                    Email_sending(\"Upload file prepared successfully!\", [\"michael.ng@finexisam.com\"])\n",
    "                else:\n",
    "                    print(\"Problem with upload file, please check!\")\n",
    "                    Email_sending(\"Problem with upload file, please check!\", [\"michael.ng@finexisam.com\"])\n",
    "                print(\"\\n\")\n",
    "                time.sleep(60*60*4)\n",
    "            else:\n",
    "                pass\n",
    "        else:\n",
    "            pass\n",
    "            \n",
    "        \n",
    "    else:    # Weekends\n",
    "        pass\n",
    "\n",
    "    return first_email_FX"
   ]
  },
  {
   "cell_type": "markdown",
   "metadata": {},
   "source": [
    "### Auto Process"
   ]
  },
  {
   "cell_type": "code",
   "execution_count": null,
   "metadata": {},
   "outputs": [
    {
     "name": "stdout",
     "output_type": "stream",
     "text": [
      "13056\n",
      "13056\n",
      "13056\n",
      "13056\n",
      "13056\n",
      "13056\n",
      "13056\n"
     ]
    }
   ],
   "source": [
    "first_email_FX = 13056\n",
    "while True:\n",
    "    first_email_FX = FX_FT_process(first_email_FX, folder_path,path_IB)\n",
    "    print(first_email_FX)\n",
    "    time.sleep(20*60)"
   ]
  },
  {
   "cell_type": "code",
   "execution_count": 5,
   "metadata": {},
   "outputs": [],
   "source": [
    "import email\n"
   ]
  },
  {
   "cell_type": "code",
   "execution_count": null,
   "metadata": {
    "collapsed": true
   },
   "outputs": [],
   "source": []
  },
  {
   "cell_type": "code",
   "execution_count": null,
   "metadata": {
    "collapsed": true
   },
   "outputs": [],
   "source": []
  }
 ],
 "metadata": {
  "anaconda-cloud": {},
  "kernelspec": {
   "display_name": "Python 3",
   "language": "python",
   "name": "python3"
  },
  "language_info": {
   "codemirror_mode": {
    "name": "ipython",
    "version": 3
   },
   "file_extension": ".py",
   "mimetype": "text/x-python",
   "name": "python",
   "nbconvert_exporter": "python",
   "pygments_lexer": "ipython3",
   "version": "3.7.3"
  }
 },
 "nbformat": 4,
 "nbformat_minor": 1
}
