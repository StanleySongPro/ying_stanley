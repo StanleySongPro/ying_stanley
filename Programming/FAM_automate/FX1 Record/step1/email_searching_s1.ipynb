{
 "cells": [
  {
   "cell_type": "code",
   "execution_count": 21,
   "metadata": {},
   "outputs": [],
   "source": [
    "import smtplib\n",
    "from email.mime.text import MIMEText\n",
    "import imaplib\n",
    "import smtplib\n",
    "from email.mime.multipart import MIMEMultipart\n",
    "from email.mime.text import MIMEText\n",
    "import email\n",
    "from datetime import datetime\n",
    "import time\n",
    "import re\n",
    "import pandas as pd\n",
    "import numpy as np\n",
    "from datetime import date\n",
    "from datetime import timedelta\n",
    "from IPython.display import clear_output\n",
    "from email.mime.application import MIMEApplication\n",
    "import os\n",
    "folder_path = r\"/Users/olivia/Desktop\"\n",
    "os.chdir(folder_path)"
   ]
  },
  {
   "cell_type": "markdown",
   "metadata": {},
   "source": [
    "### General functions"
   ]
  },
  {
   "cell_type": "code",
   "execution_count": 22,
   "metadata": {},
   "outputs": [],
   "source": [
    "def Search_in(keyword, universe):\n",
    "    \"\"\"\n",
    "    search 'keyword' from 'universe'\n",
    "    ignore capital\n",
    "    \"\"\"\n",
    "    return bool(re.search(keyword, universe, re.IGNORECASE))"
   ]
  },
  {
   "cell_type": "code",
   "execution_count": 23,
   "metadata": {},
   "outputs": [],
   "source": [
    "def Email_sending(\n",
    "    content = None,\n",
    "    receivers=None,\n",
    "    mail_host = 'smtp.office365.com',\n",
    "    mail_user = '***@finexisam.com',\n",
    "    mail_pass = '***',\n",
    "    sender = '***@finexisam.com',\n",
    "):\n",
    "    \"\"\"\n",
    "    send 'content' to 'receiver'\n",
    "    \"\"\"\n",
    "    message = MIMEText(subject,'plain','utf-8')\n",
    "    message['Subject'] = subject\n",
    "    message['From'] = sender \n",
    "    message['To'] = receivers[0]\n",
    "    try:\n",
    "        smtpObj = smtplib.SMTP_SSL(mail_host,465) \n",
    "#         smtpObj.connect(mail_host,465)\n",
    "#         smtpObj.ehlo()\n",
    "#         smtpObj.starttls()\n",
    "#         smtpObj.ehlo()\n",
    "        smtpObj.login(mail_user,mail_pass) \n",
    "        smtpObj.sendmail(sender,receivers,content) \n",
    "        smtpObj.quit()\n",
    "        print('Sent successfully...')\n",
    "    except Exception as e:\n",
    "        print(\"Exception : {}\".format(e))"
   ]
  },
  {
   "cell_type": "code",
   "execution_count": 5,
   "metadata": {},
   "outputs": [
    {
     "name": "stdout",
     "output_type": "stream",
     "text": [
      "Sent successfully...\n"
     ]
    }
   ],
   "source": [
    "## testing......\n",
    "# mail_host = \"smtp.gmail.com\"\n",
    "# mail_user = \"olivia19931019@gmail.com\"\n",
    "# mail_pass = \"Zhous_8875\"\n",
    "# receivers = [\"luge1123@gmail.com\", \"olivia19931019@gmail.com\"]\n",
    "# sender =  mail_user\n",
    "\n",
    "# content = \"Love never fails!\"\n",
    "\n",
    "\n",
    "# Email_sending(\n",
    "#     content=content, \n",
    "#     receivers=receivers,\n",
    "#     mail_host = mail_host,\n",
    "#     mail_user = mail_user,\n",
    "#     mail_pass =mail_pass,\n",
    "#     sender = sender,\n",
    "# )"
   ]
  },
  {
   "cell_type": "code",
   "execution_count": 24,
   "metadata": {},
   "outputs": [],
   "source": [
    "def convert_str_to_datetime(date_str):\n",
    "    \"\"\"\n",
    "    convert date from string to datetime format\n",
    "    \"\"\"\n",
    "    if type(date_str)==str:\n",
    "        try:\n",
    "            date_str = datetime.strptime(date_str, '%m/%d/%Y')\n",
    "        except:\n",
    "            try:\n",
    "                date_str = datetime.strptime(date_str, '%Y-%m-%d')\n",
    "            except:\n",
    "                print(date_str, \" cannot convert to datetime\")\n",
    "    return date_str"
   ]
  },
  {
   "cell_type": "code",
   "execution_count": 25,
   "metadata": {},
   "outputs": [],
   "source": [
    "def convert_datetime_to_str(date_time):\n",
    "    \"\"\"\n",
    "    convert date from datetime format to string\n",
    "    \"\"\"\n",
    "    if type(date_time)!=str:\n",
    "        try:\n",
    "            date_time = date_time.strftime(\"%m/%d/%Y\")\n",
    "        except:\n",
    "            print('oops...')\n",
    "\n",
    "    return date_time"
   ]
  },
  {
   "cell_type": "code",
   "execution_count": 26,
   "metadata": {},
   "outputs": [],
   "source": [
    "def convert_table_format(DF):\n",
    "    DF = DF.reset_index(drop=True)\n",
    "    for i in DF.index:\n",
    "        DF.loc[i, 'Date'] = convert_datetime_to_str(DF.loc[i, 'Date'])\n",
    "    return DF\n",
    "\n",
    "# DF['Date'].apply(convert_datetime_to_str)"
   ]
  },
  {
   "cell_type": "markdown",
   "metadata": {},
   "source": [
    "### FX1"
   ]
  },
  {
   "cell_type": "code",
   "execution_count": 27,
   "metadata": {},
   "outputs": [],
   "source": [
    "def email_saving(typ, data, folder_path):\n",
    "    folder_record = os.path.join(folder_path , \"FX1 Record\")\n",
    "    emailbody = data[0][1]\n",
    "    mail = email.message_from_bytes(emailbody)\n",
    "    fileName = None \n",
    "    # Retrieve attachment file name\n",
    "    for part in mail.walk():\n",
    "        if part.get_content_maintype() == 'multipart':\n",
    "            continue\n",
    "        if part.get('Content-Disposition') is None:\n",
    "            continue\n",
    "            \n",
    "        fileName = part.get_filename()  \n",
    "\n",
    "    # decode\n",
    "        try:\n",
    "            fileName = decode_header(fileName)[0][0].decode(decode_header(fileName)[0][1])\n",
    "        except:\n",
    "            pass\n",
    "        \n",
    "    # save attachment\n",
    "        if (fileName != None) & ('jpg' not in fileName):\n",
    "                    \n",
    "                filePath = os.path.join(folder_record, fileName)\n",
    "                if not os.path.isfile(filePath):\n",
    "                    fp = open(filePath, 'wb')\n",
    "                    fp.write(part.get_payload(decode=True))\n",
    "                    fp.close()\n",
    "                else:\n",
    "                    print(\"Existing File:\" + fileName)\n",
    "                    Email_sending(\"Duplicate: \" + fileName, [\"michael.ng@finexisam.com\"])\n",
    "                        \n",
    "                        \n",
    "    return fileName"
   ]
  },
  {
   "cell_type": "code",
   "execution_count": 15,
   "metadata": {},
   "outputs": [],
   "source": [
    "def Check_email_FX(first_email_FX, folder_path, mail_host = 'smtp.office365.com', mail_user = '***@finexisam.com',\n",
    "                   mail_pass = '***'):\n",
    "\n",
    "    file_name = None\n",
    "            \n",
    "    # Email Login\n",
    "    smtpObj = smtplib.SMTP(mail_host,25) \n",
    "    smtpObj.connect(mail_host,587)\n",
    "    smtpObj.ehlo()\n",
    "    smtpObj.starttls()\n",
    "    smtpObj.ehlo()\n",
    "    smtpObj.login(mail_user,mail_pass)  \n",
    "    \n",
    "    # Inbox Scanning\n",
    "    client = imaplib.IMAP4_SSL(mail_host)\n",
    "    client.login(mail_user, mail_pass)\n",
    "    status, messages = client.select('INBOX')\n",
    "    \n",
    "    # Inbox Index\n",
    "    type, data = client.search(None, 'ALL')\n",
    "    mail_ids = data[0]\n",
    "    id_list = mail_ids.split()   \n",
    "    latest_email_FX = int(id_list[-1])\n",
    "\n",
    "    #  Email\n",
    "    for i in range(first_email_FX + 1, latest_email_FX + 1):\n",
    "        typ, data = client.fetch(str(i), '(RFC822)' )\n",
    "        for response_part in data:\n",
    "            if isinstance(response_part, tuple):\n",
    "                msg = email.message_from_bytes(response_part[1])\n",
    "                email_subject = msg['subject']\n",
    "                email_from = msg['from']\n",
    "\n",
    "                \n",
    "                # Check KGI Report\n",
    "                if (Search_in(\"Summary\", email_subject)) &(Search_in(\"Account\", email_subject)) &(Search_in(\"kgi\", email_from))\\\n",
    "                        & (Search_in(\"re\", email_subject)==False) & (Search_in(\"fw\", email_subject)==False):\n",
    "                    file_name = email_saving(typ, data,folder_path)\n",
    "    \n",
    "    return file_name, latest_email_FX"
   ]
  },
  {
   "cell_type": "code",
   "execution_count": 16,
   "metadata": {},
   "outputs": [],
   "source": [
    "def FX_FT_process(first_email_FX, folder_path, path_IB):\n",
    "    time_now = str(datetime.now())[11:16]\n",
    "    date_now = str(datetime.now())[:10]\n",
    "    week_now = datetime.now().weekday()\n",
    "    \n",
    "    if week_now < 6:   # Weekdays\n",
    "        \n",
    "        if week_now > 0:\n",
    "            # FX1 processing\n",
    "            if (time_now>\"10:00\") & (time_now<\"10:30\"):\n",
    "                print(date_now)\n",
    "                file_name, first_email_FX = Check_email_FX(first_email_FX, folder_path)\n",
    "                print(file_name)\n",
    "                print(first_email_FX)\n",
    "                FX1_record = Record_append_FX1(folder_path, file_name)\n",
    "                generate_upload_file_FX1(folder_path, FX1_record)\n",
    "                time.sleep(60*30)\n",
    "\n",
    "            # FX1 status check\n",
    "            elif (time_now>\"10:30\") & (time_now<\"11:30\"):\n",
    "                FX1_record_check = pd.read_excel(folder_path + \"\\\\FX1 Record\\\\FX1 Record.xlsx\")\n",
    "                if (datetime.today() -convert_datetime(list(FX1_record_check[\"Date\"])[-1])).days == int(np.where(week_now == 0,3,1)):\n",
    "                    print(\"Upload file prepared successfully!\")\n",
    "                    Email_sending(\"Upload file prepared successfully!\", [\"michael.ng@finexisam.com\"])\n",
    "                else:\n",
    "                    print(\"Problem with upload file, please check!\")\n",
    "                    Email_sending(\"Problem with upload file, please check!\", [\"michael.ng@finexisam.com\"])\n",
    "                print(\"\\n\")\n",
    "                time.sleep(60*60*4)\n",
    "            else:\n",
    "                pass\n",
    "        else:\n",
    "            pass\n",
    "            \n",
    "        \n",
    "    else:    # Weekends\n",
    "        pass\n",
    "\n",
    "    return first_email_FX"
   ]
  },
  {
   "cell_type": "markdown",
   "metadata": {},
   "source": [
    "### Auto Process"
   ]
  },
  {
   "cell_type": "code",
   "execution_count": 17,
   "metadata": {},
   "outputs": [
    {
     "ename": "NameError",
     "evalue": "name 'path_IB' is not defined",
     "output_type": "error",
     "traceback": [
      "\u001b[0;31m---------------------------------------------------------------------------\u001b[0m",
      "\u001b[0;31mNameError\u001b[0m                                 Traceback (most recent call last)",
      "\u001b[0;32m<ipython-input-17-f04a42be3280>\u001b[0m in \u001b[0;36m<module>\u001b[0;34m\u001b[0m\n\u001b[1;32m      1\u001b[0m \u001b[0mfirst_email_FX\u001b[0m \u001b[0;34m=\u001b[0m \u001b[0;36m13056\u001b[0m\u001b[0;34m\u001b[0m\u001b[0;34m\u001b[0m\u001b[0m\n\u001b[1;32m      2\u001b[0m \u001b[0;32mwhile\u001b[0m \u001b[0;32mTrue\u001b[0m\u001b[0;34m:\u001b[0m\u001b[0;34m\u001b[0m\u001b[0;34m\u001b[0m\u001b[0m\n\u001b[0;32m----> 3\u001b[0;31m     \u001b[0mfirst_email_FX\u001b[0m \u001b[0;34m=\u001b[0m \u001b[0mFX_FT_process\u001b[0m\u001b[0;34m(\u001b[0m\u001b[0mfirst_email_FX\u001b[0m\u001b[0;34m,\u001b[0m \u001b[0mfolder_path\u001b[0m\u001b[0;34m,\u001b[0m\u001b[0mpath_IB\u001b[0m\u001b[0;34m)\u001b[0m\u001b[0;34m\u001b[0m\u001b[0;34m\u001b[0m\u001b[0m\n\u001b[0m\u001b[1;32m      4\u001b[0m     \u001b[0mprint\u001b[0m\u001b[0;34m(\u001b[0m\u001b[0mfirst_email_FX\u001b[0m\u001b[0;34m)\u001b[0m\u001b[0;34m\u001b[0m\u001b[0;34m\u001b[0m\u001b[0m\n\u001b[1;32m      5\u001b[0m     \u001b[0mtime\u001b[0m\u001b[0;34m.\u001b[0m\u001b[0msleep\u001b[0m\u001b[0;34m(\u001b[0m\u001b[0;36m20\u001b[0m\u001b[0;34m*\u001b[0m\u001b[0;36m60\u001b[0m\u001b[0;34m)\u001b[0m\u001b[0;34m\u001b[0m\u001b[0;34m\u001b[0m\u001b[0m\n",
      "\u001b[0;31mNameError\u001b[0m: name 'path_IB' is not defined"
     ]
    }
   ],
   "source": [
    "first_email_FX = 13056\n",
    "while True:\n",
    "    first_email_FX = FX_FT_process(first_email_FX, folder_path,path_IB)\n",
    "    print(first_email_FX)\n",
    "    time.sleep(20*60)"
   ]
  },
  {
   "cell_type": "code",
   "execution_count": 19,
   "metadata": {},
   "outputs": [
    {
     "ename": "TypeError",
     "evalue": "sleep() takes exactly one argument (0 given)",
     "output_type": "error",
     "traceback": [
      "\u001b[0;31m---------------------------------------------------------------------------\u001b[0m",
      "\u001b[0;31mTypeError\u001b[0m                                 Traceback (most recent call last)",
      "\u001b[0;32m<ipython-input-19-325dceb1fe76>\u001b[0m in \u001b[0;36m<module>\u001b[0;34m\u001b[0m\n\u001b[0;32m----> 1\u001b[0;31m \u001b[0mhelp\u001b[0m\u001b[0;34m(\u001b[0m\u001b[0mtime\u001b[0m\u001b[0;34m.\u001b[0m\u001b[0msleep\u001b[0m\u001b[0;34m(\u001b[0m\u001b[0;34m)\u001b[0m\u001b[0;34m)\u001b[0m\u001b[0;34m\u001b[0m\u001b[0;34m\u001b[0m\u001b[0m\n\u001b[0m",
      "\u001b[0;31mTypeError\u001b[0m: sleep() takes exactly one argument (0 given)"
     ]
    }
   ],
   "source": [
    "help(time.sleep())"
   ]
  },
  {
   "cell_type": "code",
   "execution_count": null,
   "metadata": {
    "collapsed": true
   },
   "outputs": [],
   "source": []
  },
  {
   "cell_type": "code",
   "execution_count": null,
   "metadata": {
    "collapsed": true
   },
   "outputs": [],
   "source": []
  }
 ],
 "metadata": {
  "anaconda-cloud": {},
  "kernelspec": {
   "display_name": "Python 3",
   "language": "python",
   "name": "python3"
  },
  "language_info": {
   "codemirror_mode": {
    "name": "ipython",
    "version": 3
   },
   "file_extension": ".py",
   "mimetype": "text/x-python",
   "name": "python",
   "nbconvert_exporter": "python",
   "pygments_lexer": "ipython3",
   "version": "3.7.3"
  }
 },
 "nbformat": 4,
 "nbformat_minor": 1
}
