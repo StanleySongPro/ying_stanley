{
 "cells": [
  {
   "cell_type": "markdown",
   "metadata": {},
   "source": [
    "# FAM Project\n",
    "## Cash Report\n",
    "* input file\n",
    "* output file\n",
    "* `this process is what we need to do`\n",
    "* 输出文件  红色部分是你不需要修改的  每个文件都保持这样的title\n",
    "* 输出文件  黄色区域  第一行是对应输入文件的列号   比如黄色的第一行第一列表示  输出文件的第一列  对应  输入文件的A列\n",
    "* 输入文件  你可以看到第一列字符串的中间分别是FAM GO FUND 和FAM GO PLUS FUND；分别对应了输出文件第一列的FGO 和 FGOPLUS\n",
    "* 关键就在于输入文件的S&R  对应 输出的SNR  然后汇率就是一一对应  没有S&R的就是对应BK \n",
    "* 输出的C D 两列非常简单  不变的字符串\n",
    "* 输出的E则是输入A + “_SCB_ACCT_ID”; `输出文件是区分大小写的`\n",
    "* F G H列一样\n",
    "* J列留白\n",
    "* K列对应输入的P列\n",
    "* 入文件    有credit debit 和空白    所以需要做的就是Credit- R (receive)   Debit - P (pay)；  然后空白的  其实我们对我们的CASH是没有改变的    所以我们不需要处理这一行；`可以在处理的最开始  根据输入文件的P列进行筛选  把P列空白的行直接删除`\n",
    "* 输出的L列对应输入的AD 列\n",
    "* M列对应A列   因为A列里面有最后三个字符代表着汇率\n",
    "* 最后两列 N O  都对应了输入的F列   P开始往后  全部留白\n",
    "* 这个过程中有两个环节比较tricky: 第一个是N和O列这个时间: 首先是时间格式  这个python有现成的包可以改时间格式，  我待会也会和你分享一个我们现在用的一个mapping  你可以用作参照 也可以看看里面的package有没有用; 其次   日期本身   因为这个输入文件   我们counterparty是365天每天都可能给我们发送的    意味着周末和假日都是有文件的   但是   我们的系统Linedata不识别周末和新加坡假日; 这就意味着  我们需要把周末和假日转换到下一个工作日; 可以搞一个list然后把假期都放进去，然后每年renew一下; 这是一个办法   我其他script也有用这样的办法  但我不确定这是不是惟一的办法; 你可以去这种论坛看看有没有人建了什么包;\n",
    "* 第二个部分是输出文件的I列  对应输入文件AV列: 这里的INT 代表的是interest  不是整数; 会给你一个字典形式的; 如果加进来新的还要再renew一下字典; 找不到就会报错\n",
    "* `把function装在.py里  只留一些运行代码在notebook  因为我们team严格会programming的不多  所以减轻大家的负担  大家不怕改错什么代码   你也不担心大家删除什么底层的代码`\n"
   ]
  },
  {
   "cell_type": "code",
   "execution_count": null,
   "metadata": {},
   "outputs": [],
   "source": [
    "import pandas as pd\n",
    "import numpy as np\n",
    "import os\n",
    "%run -i \"00. lag_dict.py\"\n",
    "%run -i \"04c. Mapping_trade_to_CIS_Funds_AIM.py\"\n",
    "import datetime\n",
    "import time\n",
    "date_time = datetime.datetime.now().strftime(\"%Y%m%d_%H%M\")\n",
    "date_time_uni = datetime.datetime.now().strftime(\"%Y%m%d%H%M\")\n",
    "date_time_txt = datetime.datetime.now().strftime(\"%d-%m-%Y\")"
   ]
  },
  {
   "cell_type": "markdown",
   "metadata": {},
   "source": []
  },
  {
   "cell_type": "markdown",
   "metadata": {},
   "source": [
    "## Sample：单对多\n",
    "* sample code file 有三个\n",
    "* 输入一个，输出四个\n",
    "* `这个逻辑和cash report是不一样的`"
   ]
  },
  {
   "cell_type": "markdown",
   "metadata": {},
   "source": [
    "## Latest Holdings\n",
    "* 输入两个，输出一个\n",
    "* 输出的格式   黄色部分应该是title  我为了方便把它放到了下面 \n",
    "* 下面最后一行是标注  表明对应输入的哪一行\n",
    "* 所以你可以看到第一列   quantity  对应的是输入的H列\n",
    "* 这里有一个注意点   因为输入的title名称是固定的  所以避免不必要的麻烦   尽量用columns name做slice     避免.iloc数第几列；所以这个的话尽量用Input[\"Settled Position\"]\n",
    "* 输出的第二列  是对应C列\n",
    "* 你可以通过前半部分的字符  分别出FAM GBL OPP PLUS FD - 对应的是FGOPLUS (这是我们asset allocation的一个基金  aggressive的)     然后FAM GBL OPP FD 对应FGO （我们asset allocation的另一个基金  balance的）\n",
    "* "
   ]
  }
 ],
 "metadata": {
  "kernelspec": {
   "display_name": "Python 3",
   "language": "python",
   "name": "python3"
  },
  "language_info": {
   "codemirror_mode": {
    "name": "ipython",
    "version": 3
   },
   "file_extension": ".py",
   "mimetype": "text/x-python",
   "name": "python",
   "nbconvert_exporter": "python",
   "pygments_lexer": "ipython3",
   "version": "3.7.3"
  }
 },
 "nbformat": 4,
 "nbformat_minor": 2
}
