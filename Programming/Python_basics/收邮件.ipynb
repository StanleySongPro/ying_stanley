{
 "cells": [
  {
   "cell_type": "markdown",
   "metadata": {},
   "source": [
    "# 用Python收邮件"
   ]
  },
  {
   "cell_type": "markdown",
   "metadata": {},
   "source": [
    "### [认真对待 Python3 收邮件](https://blog.csdn.net/Marksinoberg/article/details/66969620)\n",
    "### [python学习——POP3收取邮件](https://blog.csdn.net/youzhouliu/article/details/51952354)"
   ]
  },
  {
   "cell_type": "markdown",
   "metadata": {},
   "source": [
    "#### 收取邮件就是编写一个MUA作为客户端，从MDA把邮件获取到用户的电脑或者手机上。收取邮件最常用的协议是POP协议，目前版本号是3，俗称POP3。\n",
    "* Python内置一个poplib模块，实现了POP3协议，可以直接用来收邮件。\n",
    "* 注意到POP3协议收取的不是一个已经可以阅读的邮件本身，而是邮件的原始文本，这和SMTP协议很像，SMTP发送的也是经过编码后的一大段文本。\n",
    "* 要把POP3收取的文本变成可以阅读的邮件，还需要用email模块提供的各种类来解析原始文本，变成可阅读的邮件对象。\n",
    "* 所以，收取邮件分两步：\n",
    "** 第一步：用poplib把邮件的原始文本下载到本地；\n",
    "** 第二部：用email解析原始文本，还原为邮件对象。"
   ]
  },
  {
   "cell_type": "markdown",
   "metadata": {},
   "source": [
    "####    POP方法\t                                                                                描述\n",
    "* user(login)\t向服务器发送登录名，并显示服务器的响应，表示服务器正在等待输入该用户的密\n",
    "* pass_(passwd) \t在用户使用 user()登录后，发送 passwd。如果登录失败，则抛出异常 \n",
    "* stat()\t返回邮件的状态，即一个长度为 2 的元组（msg_ct, mbox_siz），分别表示消息的数量和消息的总大小（即 字节数） \n",
    "* list([msgnum]) \tstat()的扩展，从服务器返回以三元组表示的整个消息列表（rsp, msg_list, rsp_siz），分别为服务器的响应、 消息列表、返回消息的大小。如果给定了 msgnum，则只返回指定消息的数据 \n",
    "* retr(msgnum)\t从服务器中得到消息的 msgnum，并设置其“已读”标志。返回一个长度为 3 的元组（rsp, msglines, msgsiz）， 分别为服务器的响应、消息的 msgnum 的所有行、消息的字节数\n",
    "* dele(msgnum) \t把消息 msgnum 标记为删除，大多数服务器在调用 quit()后执行删除操作 \n",
    "* quit()\t注销、提交修改（如处理“已读”和“删除”标记等）、解锁邮箱、终止连接，然后退出 "
   ]
  },
  {
   "cell_type": "code",
   "execution_count": 8,
   "metadata": {},
   "outputs": [],
   "source": [
    "import poplib\n",
    "\n",
    "# base64解码\n",
    "import base64\n",
    "\n",
    "#解码邮件信息\n",
    "from email.parser import Parser\n",
    "\n",
    "#解码邮件主题\n",
    "from email.header import decode_header\n",
    "\n",
    "#解析发件人详情，名称及地址\n",
    "from email.utils import parseaddr\n",
    "\n",
    "#输入邮件地址，口令和POP3服务器地址\n",
    "email = \"yanlaile1019@gmail.com\"\n",
    "password = \"odtxybaggivhsmle\" #客户端授权码而非登录密码，需要自己登陆去设置\n",
    "#（http://www.91ymb.com/docs/articles/25/ru-he-she-zhi-shou-jian-you-xiang-he-shou-quan-ma）\n",
    "pop3_server = \"pop.gmail.com\""
   ]
  },
  {
   "cell_type": "markdown",
   "metadata": {},
   "source": [
    "#### 返回邮箱中的最新邮件"
   ]
  },
  {
   "cell_type": "code",
   "execution_count": 35,
   "metadata": {
    "scrolled": true
   },
   "outputs": [],
   "source": [
    "def get_mail_content():\n",
    "    useraccount = 'yanlaile1019@gmail.com'\n",
    "    password = \"odtxybaggivhsmle\"\n",
    "    pop3_server = 'pop.gmail.com\n",
    "    \n",
    "    #开始连接到服务器\n",
    "    server = poplib.POP3_SSL(pop3_server)\n",
    "    \n",
    "    #打开或者关闭调试信息，为打开时，会在控制台打印客户端与服务器的交互信息\n",
    "    server.set_debuglevel(1) # 1为打开\n",
    "    \n",
    "    #打印POP3服务器的欢迎文字，验证是否正确连接到了邮件服务器\n",
    "    print(server.getwelcome().decode('utf8'))\n",
    "    \n",
    "    #开始进行身份验证\n",
    "    server.user(useraccount)\n",
    "    server.pass_(password)\n",
    "    \n",
    "    #返回邮件总数和占用服务器的空间大小（字节数），通过stat（）方法\n",
    "    email_num, email_size = server.stat()\n",
    "    print(\"消息的数量:{0},\\n消息的总大小:{1}\".format(email_num, email_size))\n",
    "    \n",
    "    #使用list()返回所有邮件的编号，默认为字节类型的串\n",
    "    rsp, msg_list, rsp_size = server.list()\n",
    "    print(\"服务器的响应:{0},\\n消息列表:{1},\\n返回消息的大小:{2}\".format(rsp, msg_list, rsp_size))\n",
    "    \n",
    "    print(\"邮件总数: {}\".format(len(msg_list)))\n",
    "    \n",
    "    #单纯获取最新一封的邮件\n",
    "    total_mail_numbers = len(msg_list)\n",
    "    rsg, msglines, msgsiz = server.retr(total_mail_numbers)\n",
    "    \n",
    "    #print(\"服务器的响应: {0},\\n原始邮件内容: {1},\\n改封邮件所占字节大小:{2}\".format(rsp, msglines, msgsize))\n",
    "    \n",
    "    msg_content = b'\\r\\n'.join(msglines).decode('gbk')\n",
    "    \n",
    "    msg = Parser().parsestr(text=msg_content)\n",
    "    print(\"解码后的邮件信息:\\n{}\".format(msg))\n",
    "    \n",
    "    #关闭服务器的连接，释放资源\n",
    "    server.close()\n",
    "    \n",
    "    return msg\n",
    "\n",
    "\n"
   ]
  },
  {
   "cell_type": "code",
   "execution_count": 34,
   "metadata": {
    "scrolled": true
   },
   "outputs": [],
   "source": [
    "# import poplib\n",
    "# import email\n",
    "# import string\n",
    "\n",
    "# mailServer = poplib.POP3_SSL(\"pop.gmail.com\")\n",
    "# mailServer.user('yanlaile1019@gmail.com')\n",
    "# mailServer.pass_(\"odtxybaggivhsmle\")\n",
    "# (mailCount, size) = mailServer.stat()\n",
    "\n",
    "# print(\"Mails: {0}\".format(mailCount))\n",
    "\n",
    "# for i in range(1, mailCount+1):\n",
    "#     print(\"the No.{0} mail\".format(i))\n",
    "#     (hdr, messages, octet) = mailServer.retr(i)\n",
    "#     #messages = [message.decode('utf-8') for message in messages]\n",
    "#     mail = email.message_from_bytes('\\n'.encode('utf-8').join(messages))\n",
    "#     subject = email.header.decode_header(mail.get(\"subject\"))\n",
    "#     if type(subject[0][0]) in (type(b' '), ):\n",
    "#                                     print(\"subject of the email:\" + subject[0][0].decode(subject[0][1]))\n",
    "#     else:\n",
    "#                                     print(\"subject of the email:\" + subject[0][0])\n",
    "#     for par in mail.walk():\n",
    "#                                     if not par.is_multipart():\n",
    "#                                         #附件\n",
    "#                                         name = par.get_param(\"name\")\n",
    "#                                         if name:\n",
    "#                                             dh = email.header.decode_header(name)\n",
    "#                                             if type(dh[0][0]) in (type(b' '), ):\n",
    "#                                                 if dh[0][1] == None:\n",
    "#                                                     fname = dh[0][0].decode()\n",
    "#                                                 else:\n",
    "#                                                     fname = dh[0][0].decode(dh[0][1])\n",
    "#                                             else:\n",
    "#                                                 fname = dh[0][0]\n",
    "#                                             print('附件名：' + fname)\n",
    "#                                             data = par.get_payload(decode=True)\n",
    "\n",
    "#                                             try:\n",
    "#                                                 f = open(fname, 'wb')\n",
    "#                                             except:\n",
    "#                                                 print('附件名有非法字符')\n",
    "#                                             f.write(data)\n",
    "#                                             f.close()\n",
    "#                                         else:\n",
    "#                                             #邮件内容\n",
    "#                                             ch = par.get_content_charset()\n",
    "#                                             if ch == None:\n",
    "#                                                 print(par.get_payload(decode=True).decode())\n",
    "#                                             else:\n",
    "#                                                 print(par.get_payload(decode=True).decode(ch))\n",
    "\n",
    "#     print(\"=================================\")\n"
   ]
  },
  {
   "cell_type": "markdown",
   "metadata": {},
   "source": [
    "### 解析邮件主题"
   ]
  },
  {
   "cell_type": "code",
   "execution_count": 41,
   "metadata": {},
   "outputs": [],
   "source": [
    "# 用来解析邮件主题\n",
    "from email.header import decode_header\n",
    "\n",
    "def parser_subject(msg):\n",
    "    subject = msg['Subject']\n",
    "    value, charset = decode_header(subject)[0]\n",
    "    if charset:\n",
    "        value = value.decode(charset)\n",
    "    print('邮件主题:{0}'.format(value))\n",
    "    return value"
   ]
  },
  {
   "cell_type": "markdown",
   "metadata": {},
   "source": [
    "### 解析邮件来源"
   ]
  },
  {
   "cell_type": "code",
   "execution_count": 18,
   "metadata": {},
   "outputs": [],
   "source": [
    "# 用来解析邮件来源\n",
    "from email.utils import parseaddr\n",
    "\n",
    "def parser_address(msg):\n",
    "    hdr,addr = parseaddr(msg['From'])\n",
    "    # name 发件人邮箱名称， addr发件人邮箱地址\n",
    "    name, charset = decode_header(hdr)[0]\n",
    "    if charset:\n",
    "        name = name.decode(charset)\n",
    "        print('发送人邮箱名称:{0}, 发件人邮箱地址:{1}'.format(name, addr))"
   ]
  },
  {
   "cell_type": "markdown",
   "metadata": {},
   "source": [
    "### 解析邮件内容\n",
    "* 正文信息是被base64编码后的串，需要获取编码格式进行解码"
   ]
  },
  {
   "cell_type": "code",
   "execution_count": 43,
   "metadata": {},
   "outputs": [],
   "source": [
    "def parser_content(msg):\n",
    "    content = msg.get_payload()\n",
    "    \n",
    "    #文本信息\n",
    "    content_charset = content[0].get_content_charset()#获取编码格式\n",
    "    text = content[0].as_string().split('base64')[-1]\n",
    "    text_content = base64.b64decode(text).decode(content_charset) # base64解码\n",
    "    \n",
    "    # 添加了HTML代码的信息\n",
    "    content_charset = content[1].get_content_charset()\n",
    "    text = content[1].as_sting().split('base64')[-1]\n",
    "    html_content = base64.b64decode(text).decode(content_charset)\n",
    "    \n",
    "    print('文本信息：{0}\\n添加了HTML代码的信息:{1}'.format(text_content, html_content))"
   ]
  },
  {
   "cell_type": "code",
   "execution_count": null,
   "metadata": {},
   "outputs": [],
   "source": []
  }
 ],
 "metadata": {
  "kernelspec": {
   "display_name": "Python 3",
   "language": "python",
   "name": "python3"
  },
  "language_info": {
   "codemirror_mode": {
    "name": "ipython",
    "version": 3
   },
   "file_extension": ".py",
   "mimetype": "text/x-python",
   "name": "python",
   "nbconvert_exporter": "python",
   "pygments_lexer": "ipython3",
   "version": "3.7.3"
  }
 },
 "nbformat": 4,
 "nbformat_minor": 2
}
