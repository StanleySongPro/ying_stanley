{
 "cells": [
  {
   "cell_type": "markdown",
   "metadata": {},
   "source": [
    "## Run Python on AWS EC2\n",
    "* [Installing Google Chrome on Amazon Linux (EC2)](https://medium.com/@davidkadlec/installing-google-chrome-on-amazon-linux-ec2-d1cb6aa37f28)\n",
    "* [Set chrome browser binary through chromedriver in Python](https://stackoverflow.com/questions/45500606/set-chrome-browser-binary-through-chromedriver-in-python)\n",
    "* [How to set anaconda as a default python?](https://askubuntu.com/questions/886983/how-to-set-anaconda-as-a-default-python)\n",
    "* [PUTTY FOR MAC OS X](https://www.ssh.com/ssh/putty/mac/#sec-Using-the-built-in-SSH-client-in-Mac-OS-X)\n",
    "* [Scheduling a Python script or model to run at a prescribed time](https://www.esri.com/arcgis-blog/products/product/analytics/scheduling-a-python-script-or-model-to-run-at-a-prescribed-time/)\n",
    "* [How does python find packages?](https://leemendelowitz.github.io/blog/how-does-python-find-packages.html)"
   ]
  },
  {
   "cell_type": "markdown",
   "metadata": {},
   "source": [
    "#### 1. Follow article below to set up EC2 instance and anaconda environment\n",
    "[Jupyter Notebooks on AWS EC2 in 15 (mostly easy) steps](https://medium.com/@alexjsanchez/python-3-notebooks-on-aws-ec2-in-15-mostly-easy-steps-2ec5e662c6c6)\n",
    "\n",
    "* Step 5: Add Tags \n",
    "\n",
    "Key: Stanley  \n",
    "Value: machine_learning\n",
    "\n",
    "* Step6: Configure Security Group\n",
    "\n",
    "Instead of clicking “Review and Launch” button right away, click the “Next:” button until you get to Security Groups. Under Security Groups, select an exiting group or create a new one then open the inbound port 8888. Port 8888 is what we’ll use for the Jupyter Notebook server towards the end of this tutorial. “SSH-ing” into port 22 should already be set to open by default.\n",
    "\n",
    "* Download PEM file\n",
    "\n",
    "stanley_machine_learning\n",
    "\n",
    "* Connect to the instance\n",
    "\n",
    "    * cd to the folder where the PEM resides\n",
    "    * change PEM file permission: chmod 400 stanley_machine_learning.pem (chmod 600 stanley_machine_learning.pem)\n",
    "    * Command line: ssh -i \"stanley_machine_learning.pem\" ubuntu@ec2-13-58-44-23.us-east-2.compute.amazonaws.com\n",
    "* Install Anaconda 3 (warning: pls install for one person only):\n",
    "    * wget the_link_of_the_linux_version_of_anaconda: wget https://repo.anaconda.com/archive/Anaconda3-5.3.1-Linux-x86_64.sh\n",
    "    * change the version name accordingly: bash Anaconda3-5.3.1-Linux-x86_64.sh\n",
    "    * check the bashrc file, see whether the path`export PATH=\"/home/ec2-user/anaconda3/bin:$PATH\"` is correct: vim .bashrc\n",
    "    * ```python\n",
    "      Do you wish the installer to initialize Anaconda3\n",
    "      in your /home/ubuntu/.bashrc ? [yes|no]\n",
    "      [no] >>> yes\n",
    "      Initializing Anaconda3 in /home/ubuntu/.bashrc\n",
    "      A backup will be made to: /home/ubuntu/.bashrc-anaconda3.bak\n",
    "      ```\n",
    "    * vm command:\n",
    "        * `:wq`: save and quit\n",
    "        * `:q`: just quit\n",
    "        * `esc`: quit edit\n",
    "        * `i`: insert, go to edit interface\n",
    "    * ipython password: `Great@2019`,`sha1:854a6e952a27:3d55be5e7c97a300bf78913e019087816a21a412`\n",
    "    \n",
    "        * Country Name (2 letter code) [AU]:SI\n",
    "        * State or Province Name (full name) [Some-State]:Singapore\n",
    "        * Locality Name (eg, city) []:Singapore\n",
    "        * Organization Name (eg, company) [Internet Widgits Pty Ltd]:Cova\n",
    "        * Organizational Unit Name (eg, section) []:DataScience\n",
    "        * Common Name (e.g. server FQDN or YOUR name) []:Stanley\n",
    "        * Email Address []:lu.song.2017@mqf.smu.edu.sg\n",
    "\n",
    "```python\n",
    "c = get_config()\n",
    "# Kernel config\n",
    "c.IPKernelApp.pylab = 'inline'  # if you want plotting support always in your notebook\n",
    "# Notebook config\n",
    "c.NotebookApp.certfile = u'/home/ubuntu/certs/mycert.pem' #location of your certificate file\n",
    "c.NotebookApp.ip = '*'\n",
    "c.NotebookApp.open_browser = False  #so that the ipython notebook does not opens up a browser by default\n",
    "c.NotebookApp.password = u'sha1:854a6e952a27:3d55be5e7c97a300bf78913e019087816a21a412'  #edit this with the SHA hash that you generated after typing in Step 9\n",
    "# This is the port we opened in Step 3.\n",
    "c.NotebookApp.port = 8888\n",
    "```\n",
    "    * Notebook:\n",
    "        * `https://(ip-172-31-19-15 or 127.0.0.1):8888/`: https://ec2-13-58-44-23.us-east-2.compute.amazonaws.com:8888/\n",
    "        \n",
    "\n",
    "* Info:\n",
    "    * update pip on windows(get pip3):\n",
    "        * add path of python.exe to Environment Variable and restart computer\n",
    "        * run cmd as administrator\n",
    "        * cmd python -m pip install --upgrade pip\n",
    "    * pyinstaller: convert py to exe\n",
    "    * PyQt5: pip3 install --user PyQt5\n"
   ]
  },
  {
   "cell_type": "markdown",
   "metadata": {},
   "source": [
    "#### 2. Using FileZilla to transfer data from Mac to AWS\n",
    "[Transferring Files between your laptop and Amazon instance](https://angus.readthedocs.io/en/2014/amazon/transfer-files-between-instance.html)"
   ]
  },
  {
   "cell_type": "markdown",
   "metadata": {},
   "source": [
    "#### 3. Run py file in linux\n",
    "[Python Programming/Creating Python Programs](https://en.wikibooks.org/wiki/Python_Programming/Creating_Python_Programs)"
   ]
  },
  {
   "cell_type": "markdown",
   "metadata": {},
   "source": [
    "#### 4. Selenium on AWS\n",
    "* [Driving Headless Chrome with Selenium on AWS EC2](https://krbnite.github.io/Driving-Headless-Chrome-with-Selenium-on-AWS-EC2/)\n",
    "* [ChromeDriver - WebDriver for Chrome](https://sites.google.com/a/chromium.org/chromedriver/downloads)"
   ]
  },
  {
   "cell_type": "code",
   "execution_count": null,
   "metadata": {},
   "outputs": [],
   "source": []
  },
  {
   "cell_type": "code",
   "execution_count": null,
   "metadata": {},
   "outputs": [],
   "source": []
  },
  {
   "cell_type": "code",
   "execution_count": null,
   "metadata": {},
   "outputs": [],
   "source": []
  },
  {
   "cell_type": "code",
   "execution_count": null,
   "metadata": {},
   "outputs": [],
   "source": []
  },
  {
   "cell_type": "code",
   "execution_count": null,
   "metadata": {},
   "outputs": [],
   "source": []
  },
  {
   "cell_type": "code",
   "execution_count": null,
   "metadata": {},
   "outputs": [],
   "source": []
  },
  {
   "cell_type": "code",
   "execution_count": null,
   "metadata": {},
   "outputs": [],
   "source": []
  },
  {
   "cell_type": "code",
   "execution_count": null,
   "metadata": {},
   "outputs": [],
   "source": []
  },
  {
   "cell_type": "code",
   "execution_count": null,
   "metadata": {},
   "outputs": [],
   "source": []
  },
  {
   "cell_type": "code",
   "execution_count": null,
   "metadata": {},
   "outputs": [],
   "source": []
  },
  {
   "cell_type": "code",
   "execution_count": null,
   "metadata": {},
   "outputs": [],
   "source": []
  },
  {
   "cell_type": "code",
   "execution_count": null,
   "metadata": {},
   "outputs": [],
   "source": []
  },
  {
   "cell_type": "code",
   "execution_count": null,
   "metadata": {},
   "outputs": [],
   "source": []
  },
  {
   "cell_type": "code",
   "execution_count": null,
   "metadata": {},
   "outputs": [],
   "source": []
  },
  {
   "cell_type": "code",
   "execution_count": null,
   "metadata": {},
   "outputs": [],
   "source": []
  },
  {
   "cell_type": "code",
   "execution_count": null,
   "metadata": {},
   "outputs": [],
   "source": []
  },
  {
   "cell_type": "code",
   "execution_count": null,
   "metadata": {},
   "outputs": [],
   "source": []
  }
 ],
 "metadata": {
  "kernelspec": {
   "display_name": "Python 3",
   "language": "python",
   "name": "python3"
  },
  "language_info": {
   "codemirror_mode": {
    "name": "ipython",
    "version": 3
   },
   "file_extension": ".py",
   "mimetype": "text/x-python",
   "name": "python",
   "nbconvert_exporter": "python",
   "pygments_lexer": "ipython3",
   "version": "3.7.3"
  }
 },
 "nbformat": 4,
 "nbformat_minor": 2
}
