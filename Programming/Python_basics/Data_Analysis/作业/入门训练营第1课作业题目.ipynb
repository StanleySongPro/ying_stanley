{
 "cells": [
  {
   "cell_type": "markdown",
   "metadata": {},
   "source": [
    "## 第1课作业题目"
   ]
  },
  {
   "cell_type": "markdown",
   "metadata": {},
   "source": [
    "1.完整的商业数据分析可以分为哪六步？"
   ]
  },
  {
   "cell_type": "markdown",
   "metadata": {
    "collapsed": true
   },
   "source": [
    "* 1. 明确分析目标\n",
    "* 2. 数据获取\n",
    "* 3. 数据清洗与处理\n",
    "* 4. 描述分析\n",
    "* 5. 建模分析\n",
    "* 6. 数据分析报告"
   ]
  },
  {
   "cell_type": "markdown",
   "metadata": {},
   "source": [
    "2.常用的数据获取方式有哪四种？"
   ]
  },
  {
   "cell_type": "markdown",
   "metadata": {
    "collapsed": true
   },
   "source": [
    "* 公开数据源\n",
    "* 网络爬虫\n",
    "* 问卷调查\n",
    "* 公司内部数据\n"
   ]
  },
  {
   "cell_type": "markdown",
   "metadata": {},
   "source": [
    "3.数据分析过程中耗时最多的一般是哪个环节？"
   ]
  },
  {
   "cell_type": "markdown",
   "metadata": {
    "collapsed": true
   },
   "source": [
    "* 数据清洗与处理"
   ]
  },
  {
   "cell_type": "markdown",
   "metadata": {},
   "source": [
    "4.Python2.x 与Python3.x兼容，对吗？"
   ]
  },
  {
   "cell_type": "markdown",
   "metadata": {
    "collapsed": true
   },
   "source": [
    "* 不对，Python2.x 与Python3.x 可以被看作不同的两种语言"
   ]
  },
  {
   "cell_type": "markdown",
   "metadata": {},
   "source": [
    "5.Python是一门非常接近人类自然语言的编程语言，对吗？"
   ]
  },
  {
   "cell_type": "markdown",
   "metadata": {},
   "source": [
    "* 对"
   ]
  },
  {
   "cell_type": "markdown",
   "metadata": {},
   "source": [
    "6.快捷键查询的快捷键是：h  \n",
    "Markdown模式的快捷键是：点到当前模块的外面，按M \n",
    "Code模式的快捷键是：点到当前模块的外面，按Y \n",
    "在cell下面插入新cell的快捷键是：B  \n",
    "删除cell的快捷键是: DD \n",
    "撤销删除的快捷键是：Z(仅限撤销删除的代码行）  "
   ]
  },
  {
   "cell_type": "markdown",
   "metadata": {},
   "source": [
    "7.下面两段代码输出的结果相同么？请解释原因。    \n",
    "① x=4，y=5，print（x+y） \n",
    "② x='4',y='5', print(x+y)"
   ]
  },
  {
   "cell_type": "code",
   "execution_count": 19,
   "metadata": {},
   "outputs": [],
   "source": [
    "#不同。第一个中x, y都是数字(integer),打印出来的结果是运算结果；\n",
    "#第二个中x,y都是字符串，打印出来的结果是字符串的拼接"
   ]
  },
  {
   "cell_type": "code",
   "execution_count": 20,
   "metadata": {},
   "outputs": [
    {
     "name": "stdout",
     "output_type": "stream",
     "text": [
      "9\n"
     ]
    }
   ],
   "source": [
    "x=4\n",
    "y=5\n",
    "print(x+y)"
   ]
  },
  {
   "cell_type": "code",
   "execution_count": 21,
   "metadata": {},
   "outputs": [
    {
     "name": "stdout",
     "output_type": "stream",
     "text": [
      "45\n"
     ]
    }
   ],
   "source": [
    "x='4'\n",
    "y='5'\n",
    "print(x+y)"
   ]
  },
  {
   "cell_type": "markdown",
   "metadata": {},
   "source": [
    "8.‘10/3'，‘10//3’和'10%3'结果相同么？请说明原因。"
   ]
  },
  {
   "cell_type": "code",
   "execution_count": null,
   "metadata": {
    "collapsed": true
   },
   "outputs": [],
   "source": [
    "#不同。10/3的结果是正常的除法运算结果；10//3是取商；10%3是取余"
   ]
  },
  {
   "cell_type": "code",
   "execution_count": 22,
   "metadata": {},
   "outputs": [
    {
     "name": "stdout",
     "output_type": "stream",
     "text": [
      "3.3333333333333335\n",
      "3\n",
      "1\n"
     ]
    }
   ],
   "source": [
    "print(10/3)\n",
    "print(10//3)\n",
    "print(10%3)\n"
   ]
  },
  {
   "cell_type": "markdown",
   "metadata": {},
   "source": [
    "9.'='和'=='分别表示什么含义？print(2==5)输出什么结果？属于什么类型数据？"
   ]
  },
  {
   "cell_type": "code",
   "execution_count": null,
   "metadata": {
    "collapsed": true
   },
   "outputs": [],
   "source": [
    "#'='是赋值\n",
    "#'=='是比较\n",
    "#print(2==5) 返回 ’False’，布尔类型\n"
   ]
  },
  {
   "cell_type": "code",
   "execution_count": 23,
   "metadata": {},
   "outputs": [
    {
     "name": "stdout",
     "output_type": "stream",
     "text": [
      "False\n"
     ]
    }
   ],
   "source": [
    "print(2==5)"
   ]
  },
  {
   "cell_type": "markdown",
   "metadata": {},
   "source": [
    "10.a,b = 4,5，a *= b，a=?"
   ]
  },
  {
   "cell_type": "code",
   "execution_count": 26,
   "metadata": {},
   "outputs": [
    {
     "name": "stdout",
     "output_type": "stream",
     "text": [
      "20\n"
     ]
    }
   ],
   "source": [
    "a,b = 4, 5\n",
    "a*=b\n",
    "print(a)"
   ]
  },
  {
   "cell_type": "markdown",
   "metadata": {},
   "source": [
    "11.如何查看下面这个字符串长度？"
   ]
  },
  {
   "cell_type": "code",
   "execution_count": 27,
   "metadata": {},
   "outputs": [
    {
     "name": "stdout",
     "output_type": "stream",
     "text": [
      "17\n"
     ]
    }
   ],
   "source": [
    "my_string = 'this is my string'\n",
    "print(len(my_string))"
   ]
  },
  {
   "cell_type": "markdown",
   "metadata": {},
   "source": [
    "12.string1='I'm a student.'   \n",
    "print(string1)结果会报错么？如何修改string1使其得到正确的输出？"
   ]
  },
  {
   "cell_type": "code",
   "execution_count": 28,
   "metadata": {},
   "outputs": [
    {
     "ename": "SyntaxError",
     "evalue": "invalid syntax (<ipython-input-28-469c8975a4a3>, line 1)",
     "output_type": "error",
     "traceback": [
      "\u001b[1;36m  File \u001b[1;32m\"<ipython-input-28-469c8975a4a3>\"\u001b[1;36m, line \u001b[1;32m1\u001b[0m\n\u001b[1;33m    string1='I'm a student.'\u001b[0m\n\u001b[1;37m               ^\u001b[0m\n\u001b[1;31mSyntaxError\u001b[0m\u001b[1;31m:\u001b[0m invalid syntax\n"
     ]
    }
   ],
   "source": [
    "string1='I'm a student.'\n",
    "print(string1)"
   ]
  },
  {
   "cell_type": "code",
   "execution_count": 29,
   "metadata": {},
   "outputs": [
    {
     "name": "stdout",
     "output_type": "stream",
     "text": [
      "I'm a student.\n"
     ]
    }
   ],
   "source": [
    "string1=\"I'm a student.\"\n",
    "print(string1)"
   ]
  },
  {
   "cell_type": "code",
   "execution_count": 39,
   "metadata": {},
   "outputs": [
    {
     "name": "stdout",
     "output_type": "stream",
     "text": [
      "I'm a student.\n"
     ]
    }
   ],
   "source": [
    "string1='I\\'m a student.'\n",
    "print(string1)"
   ]
  },
  {
   "cell_type": "markdown",
   "metadata": {},
   "source": [
    "13.通过格式化输出的形式，将1/7的结果保留4位小数"
   ]
  },
  {
   "cell_type": "code",
   "execution_count": 30,
   "metadata": {},
   "outputs": [
    {
     "name": "stdout",
     "output_type": "stream",
     "text": [
      "0.1429\n"
     ]
    }
   ],
   "source": [
    "print('{0:.4f}'.format(1/7))"
   ]
  },
  {
   "cell_type": "markdown",
   "metadata": {},
   "source": [
    "14.name='李雷'  \n",
    "gender='男孩'  \n",
    "通过格式化输出的方式，输出“李雷是个男孩。”"
   ]
  },
  {
   "cell_type": "code",
   "execution_count": 31,
   "metadata": {},
   "outputs": [
    {
     "name": "stdout",
     "output_type": "stream",
     "text": [
      "李雷是个男孩。\n"
     ]
    }
   ],
   "source": [
    "name='李雷'\n",
    "gender='男孩'\n",
    "print('{0}是个{1}。'.format(name,gender))"
   ]
  },
  {
   "cell_type": "markdown",
   "metadata": {},
   "source": [
    "15.以下几种变量命名是否正确，为什么？  \n",
    "*rf_fd=9  \n",
    "3name  \n",
    "bian liang=6  \n",
    "p变量=7"
   ]
  },
  {
   "cell_type": "code",
   "execution_count": null,
   "metadata": {
    "collapsed": true
   },
   "outputs": [],
   "source": [
    "# *rf_fd=9, 不正确，开头必须是字母或者下划线，不能以符号作为开头\n",
    "# 3name，不正确，开头必须是字母或者下划线，不可以以数字开头\n",
    "# bian liang=6，不正确，字母意外部分用字母，下划线，数字，不能用空格\n",
    "# p变量=7，不正确，字母意外部分用字母，下划线，数字，不能用中文"
   ]
  },
  {
   "cell_type": "markdown",
   "metadata": {},
   "source": [
    "16.\n",
    "\n",
    "How  \n",
    "are  \n",
    "you  \n",
    "?  \n",
    "如何使这句话成为1个字符串？"
   ]
  },
  {
   "cell_type": "code",
   "execution_count": 42,
   "metadata": {},
   "outputs": [
    {
     "name": "stdout",
     "output_type": "stream",
     "text": [
      "How are you?\n"
     ]
    }
   ],
   "source": [
    "a='How '\n",
    "b='are '\n",
    "c='you'\n",
    "s= a+b+c+'?'\n",
    "print(s)"
   ]
  },
  {
   "cell_type": "markdown",
   "metadata": {},
   "source": [
    "17.s='I love python'，\n",
    "通过索引的方式 取出'python'"
   ]
  },
  {
   "cell_type": "code",
   "execution_count": 38,
   "metadata": {},
   "outputs": [
    {
     "name": "stdout",
     "output_type": "stream",
     "text": [
      "python\n"
     ]
    }
   ],
   "source": [
    "s='I love python'\n",
    "print(s[7::])"
   ]
  },
  {
   "cell_type": "markdown",
   "metadata": {},
   "source": [
    "18.s='今年是2019年'，\n",
    "将字符串中的数字全部替换为汉字\n",
    "\n"
   ]
  },
  {
   "cell_type": "code",
   "execution_count": 49,
   "metadata": {},
   "outputs": [
    {
     "name": "stdout",
     "output_type": "stream",
     "text": [
      "今年是二零一九年\n"
     ]
    }
   ],
   "source": [
    "s='今年是2019年'\n",
    "t1 = s.replace('2','二')\n",
    "t2 = t1.replace('0','零')\n",
    "t3 = t2.replace('1','一')\n",
    "t = t3.replace('9','九')\n",
    "print(t)"
   ]
  },
  {
   "cell_type": "markdown",
   "metadata": {},
   "source": [
    "19.s='jfoaeugnadfjalkeurnbmzm,cxvauflamglkajdkfjakldflkag'   \n",
    "如何判断字符串s中是否有字母 t ？\n"
   ]
  },
  {
   "cell_type": "code",
   "execution_count": 43,
   "metadata": {},
   "outputs": [
    {
     "data": {
      "text/plain": [
       "False"
      ]
     },
     "execution_count": 43,
     "metadata": {},
     "output_type": "execute_result"
    }
   ],
   "source": [
    "s='jfoaeugnadfjalkeurnbmzm,cxvauflamglkajdkfjakldflkag'\n",
    "'t' in s"
   ]
  },
  {
   "cell_type": "code",
   "execution_count": null,
   "metadata": {},
   "outputs": [],
   "source": []
  },
  {
   "cell_type": "code",
   "execution_count": null,
   "metadata": {},
   "outputs": [],
   "source": []
  }
 ],
 "metadata": {
  "kernelspec": {
   "display_name": "Python 3",
   "language": "python",
   "name": "python3"
  },
  "language_info": {
   "codemirror_mode": {
    "name": "ipython",
    "version": 3
   },
   "file_extension": ".py",
   "mimetype": "text/x-python",
   "name": "python",
   "nbconvert_exporter": "python",
   "pygments_lexer": "ipython3",
   "version": "3.7.3"
  }
 },
 "nbformat": 4,
 "nbformat_minor": 2
}
