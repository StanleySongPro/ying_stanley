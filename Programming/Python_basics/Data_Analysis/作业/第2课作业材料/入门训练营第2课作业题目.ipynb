{
 "cells": [
  {
   "cell_type": "markdown",
   "metadata": {},
   "source": [
    "1.L=[1,2,3,4,1,4,5,6]将L转变为集合，再将集合转变为新的列表，比较新旧列表的差别；"
   ]
  },
  {
   "cell_type": "code",
   "execution_count": 4,
   "metadata": {},
   "outputs": [
    {
     "name": "stdout",
     "output_type": "stream",
     "text": [
      "{1, 2, 3, 4, 5, 6}\n",
      "[1, 2, 3, 4, 5, 6]\n",
      "[1, 2, 3, 4, 1, 4, 5, 6]\n"
     ]
    }
   ],
   "source": [
    "L=[1,2,3,4,1,4,5,6]\n",
    "L1 = set(L)\n",
    "L2 = list(L1)\n",
    "print(L1)\n",
    "print(L2)\n",
    "print(L)\n",
    "# new list has no duplicated items"
   ]
  },
  {
   "cell_type": "markdown",
   "metadata": {},
   "source": [
    "2.dog = [\"tom\", \"jack\", \"Collie\", \"Marry\"], kitty = \"Marry\", 如何判断 kitty 是否是 dog 中的一员?"
   ]
  },
  {
   "cell_type": "code",
   "execution_count": 5,
   "metadata": {},
   "outputs": [
    {
     "data": {
      "text/plain": [
       "True"
      ]
     },
     "execution_count": 5,
     "metadata": {},
     "output_type": "execute_result"
    }
   ],
   "source": [
    "dog = [\"tom\", \"jack\", \"Collie\", \"Marry\"]\n",
    "kitty = \"Marry\"\n",
    "kitty in dog"
   ]
  },
  {
   "cell_type": "markdown",
   "metadata": {},
   "source": [
    "3.L=[1,2,3,1,5,11,3,6,4,2,5,8,4,2],计算L的最大值，并求和；"
   ]
  },
  {
   "cell_type": "code",
   "execution_count": 7,
   "metadata": {},
   "outputs": [
    {
     "name": "stdout",
     "output_type": "stream",
     "text": [
      "11\n",
      "57\n"
     ]
    }
   ],
   "source": [
    "L=[1,2,3,1,5,11,3,6,4,2,5,8,4,2]\n",
    "print(max(L))\n",
    "print(sum(L))"
   ]
  },
  {
   "cell_type": "markdown",
   "metadata": {},
   "source": [
    "4.set_a = {1, 5, 10} set_b = {1, 10, 12} 找出set_a和set_b的交集并集和差。"
   ]
  },
  {
   "cell_type": "code",
   "execution_count": 10,
   "metadata": {},
   "outputs": [
    {
     "name": "stdout",
     "output_type": "stream",
     "text": [
      "{1, 10}\n",
      "{1, 5, 10, 12}\n",
      "{5}\n"
     ]
    }
   ],
   "source": [
    "set_a = {1, 5, 10} \n",
    "set_b = {1, 10, 12}\n",
    "print(set_a &set_b)\n",
    "print(set_a|set_b)\n",
    "print(set_a -set_b)"
   ]
  },
  {
   "cell_type": "markdown",
   "metadata": {},
   "source": [
    "5.在列表a=[1, 2, 4, 5, 6]的元素2和4之间插入3，并且将列表颠倒顺序；"
   ]
  },
  {
   "cell_type": "code",
   "execution_count": 16,
   "metadata": {},
   "outputs": [
    {
     "data": {
      "text/plain": [
       "[6, 5, 4, 3, 2, 1]"
      ]
     },
     "execution_count": 16,
     "metadata": {},
     "output_type": "execute_result"
    }
   ],
   "source": [
    "a=[1, 2, 4, 5, 6]\n",
    "a.append(3)\n",
    "a=list(set(a))\n",
    "a.reverse()\n",
    "a"
   ]
  },
  {
   "cell_type": "markdown",
   "metadata": {},
   "source": [
    "6.在movie={'name':'肖申克的救赎','actor':'蒂姆·罗宾斯','score':9.6,'country':'USA'}中插入新元素“评分人数：20000”，\n",
    "将country修改为“美国”，删除掉score键值对；"
   ]
  },
  {
   "cell_type": "code",
   "execution_count": 23,
   "metadata": {},
   "outputs": [
    {
     "data": {
      "text/plain": [
       "{'name': '肖申克的救赎',\n",
       " 'actor': '蒂姆·罗宾斯',\n",
       " 'score': 9.6,\n",
       " 'country': '美国',\n",
       " '评分人数': '20000'}"
      ]
     },
     "execution_count": 23,
     "metadata": {},
     "output_type": "execute_result"
    }
   ],
   "source": [
    "movie={'name':'肖申克的救赎','actor':'蒂姆·罗宾斯','score':9.6,'country':'USA'}\n",
    "movie['评分人数']='20000'\n",
    "movie['country']='美国'\n",
    "movie"
   ]
  },
  {
   "cell_type": "markdown",
   "metadata": {},
   "source": [
    "7.将字典变为两个元素一一对应的列表，一个只含有关键字，另一个只含有值。 如:{'a': 1, 'b': 2}变为['a', 'b'], [1, 2]"
   ]
  },
  {
   "cell_type": "code",
   "execution_count": 25,
   "metadata": {},
   "outputs": [
    {
     "name": "stdout",
     "output_type": "stream",
     "text": [
      "['name', 'actor', 'score', 'country', '评分人数']\n",
      "['肖申克的救赎', '蒂姆·罗宾斯', 9.6, '美国', '20000']\n"
     ]
    }
   ],
   "source": [
    "a= list(movie.keys())\n",
    "b= list(movie.values())\n",
    "print(a)\n",
    "print(b)"
   ]
  },
  {
   "cell_type": "markdown",
   "metadata": {},
   "source": [
    "8.L=[1,2,'','my',3,'name','is',4,'katty'],利用循环语句和判断条件，分别输出列表中的字符串和数字。"
   ]
  },
  {
   "cell_type": "code",
   "execution_count": 30,
   "metadata": {},
   "outputs": [
    {
     "name": "stdout",
     "output_type": "stream",
     "text": [
      "['', 'my', 'name', 'is', 'katty']\n",
      "[1, 2, 3, 4]\n"
     ]
    }
   ],
   "source": [
    "L=[1,2,'','my',3,'name','is',4,'katty']\n",
    "stra = []\n",
    "numb = []\n",
    "for item in L:\n",
    "    if type(item) == int:\n",
    "        numb.append(item)\n",
    "    else:\n",
    "        stra.append(item)\n",
    "print(stra)\n",
    "print(numb)"
   ]
  },
  {
   "cell_type": "markdown",
   "metadata": {},
   "source": [
    "9.将t转化为“2018-12-25”的格式"
   ]
  },
  {
   "cell_type": "code",
   "execution_count": 40,
   "metadata": {},
   "outputs": [
    {
     "data": {
      "text/plain": [
       "'2019-04-01'"
      ]
     },
     "execution_count": 40,
     "metadata": {},
     "output_type": "execute_result"
    }
   ],
   "source": [
    "import time\n",
    "t=1554105678\n",
    "time.strftime('%Y-%m-%d',time.localtime(t))\n"
   ]
  },
  {
   "cell_type": "markdown",
   "metadata": {},
   "source": [
    "10.利用列表输出1到50中5的倍数，将其存放到一个列表中。"
   ]
  },
  {
   "cell_type": "code",
   "execution_count": 41,
   "metadata": {},
   "outputs": [
    {
     "name": "stdout",
     "output_type": "stream",
     "text": [
      "[5, 10, 15, 20, 25, 30, 35, 40, 45, 50]\n"
     ]
    }
   ],
   "source": [
    "time_of_five = []\n",
    "for item in range(1,51):\n",
    "    if item%5 == 0:\n",
    "       time_of_five.append(item)\n",
    "print(time_of_five)\n",
    "    "
   ]
  },
  {
   "cell_type": "code",
   "execution_count": 42,
   "metadata": {},
   "outputs": [
    {
     "data": {
      "text/plain": [
       "[5, 10, 15, 20, 25, 30, 35, 40, 45, 50]"
      ]
     },
     "execution_count": 42,
     "metadata": {},
     "output_type": "execute_result"
    }
   ],
   "source": [
    "[item for item in range(1,51) if item%5 == 0]"
   ]
  },
  {
   "cell_type": "code",
   "execution_count": null,
   "metadata": {},
   "outputs": [],
   "source": []
  }
 ],
 "metadata": {
  "kernelspec": {
   "display_name": "Python 3",
   "language": "python",
   "name": "python3"
  },
  "language_info": {
   "codemirror_mode": {
    "name": "ipython",
    "version": 3
   },
   "file_extension": ".py",
   "mimetype": "text/x-python",
   "name": "python",
   "nbconvert_exporter": "python",
   "pygments_lexer": "ipython3",
   "version": "3.7.3"
  }
 },
 "nbformat": 4,
 "nbformat_minor": 2
}
