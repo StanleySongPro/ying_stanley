{
 "cells": [
  {
   "cell_type": "markdown",
   "metadata": {},
   "source": [
    "# 入门训练营第7课-作业"
   ]
  },
  {
   "cell_type": "markdown",
   "metadata": {
    "collapsed": true
   },
   "source": [
    "1.加载数据“实习僧网站招聘_第7课.xlsx”，并根据“每周实习天数”，使用matplotlib绘制饼图"
   ]
  },
  {
   "cell_type": "markdown",
   "metadata": {},
   "source": [
    "2.使用pyecharts绘制题目1中的饼图"
   ]
  },
  {
   "cell_type": "markdown",
   "metadata": {},
   "source": [
    "3.使用pyecharts将题目2中的饼图变为环形图，并给出分析"
   ]
  },
  {
   "cell_type": "markdown",
   "metadata": {},
   "source": [
    "4.绘制三线以上城市招聘信息数量的符号地图"
   ]
  },
  {
   "cell_type": "code",
   "execution_count": 34,
   "metadata": {
    "collapsed": true
   },
   "outputs": [],
   "source": [
    "p='上海、北京、广州、深圳、天津、南京、重庆、成都、武汉、杭州、青岛、苏州、西安、沈阳、郑州、宁波、长沙、无锡、大连、济南、合肥、厦门、佛山、福州、东莞、哈尔滨、长春、石家庄、昆明、南昌、南宁、温州、乌鲁木齐、常州、太原、徐州、贵阳、烟台、泉州、唐山、南通、潍坊、兰州、扬州、呼和浩特、洛阳、桂林、拉萨、海口、惠州、淄博、临沂、泰州、绍兴、东营、中山、珠海、舟山、三亚、银川、济宁、鄂尔多斯、盐城、台州、镇江、威海、西宁、包头、嘉兴、襄阳、沧州、保定、邯郸、泰安、漳州、淮安、德州、菏泽、连云港、宜昌、金华、南阳、岳阳、常德、聊城、衡阳、榆林、廊坊、芜湖、茂名、大庆、湛江、吉林、株洲、柳州、江门、遵义、滨州、咸阳、许昌、赣州、九江、汕头、宝鸡、绵阳、蚌埠、阜阳、秦皇岛'"
   ]
  },
  {
   "cell_type": "markdown",
   "metadata": {},
   "source": [
    "5.将题目4中的符号地图改为热力图，并给出分析"
   ]
  },
  {
   "cell_type": "markdown",
   "metadata": {},
   "source": [
    "6.将公司待遇数据temptation，导入到csv文件，并使用wordArt绘制词云，进行分析"
   ]
  }
 ],
 "metadata": {
  "kernelspec": {
   "display_name": "Python 3",
   "language": "python",
   "name": "python3"
  },
  "language_info": {
   "codemirror_mode": {
    "name": "ipython",
    "version": 3
   },
   "file_extension": ".py",
   "mimetype": "text/x-python",
   "name": "python",
   "nbconvert_exporter": "python",
   "pygments_lexer": "ipython3",
   "version": "3.6.3"
  }
 },
 "nbformat": 4,
 "nbformat_minor": 2
}
