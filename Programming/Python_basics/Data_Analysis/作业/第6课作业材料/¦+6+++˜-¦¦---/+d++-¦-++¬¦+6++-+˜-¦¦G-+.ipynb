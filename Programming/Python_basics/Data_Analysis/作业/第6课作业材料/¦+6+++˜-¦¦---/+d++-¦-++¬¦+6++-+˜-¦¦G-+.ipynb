{
 "cells": [
  {
   "cell_type": "markdown",
   "metadata": {},
   "source": [
    "# 入门训练营第6课-作业"
   ]
  },
  {
   "cell_type": "markdown",
   "metadata": {},
   "source": [
    "1.使用matplotlib.pyplot库文件，绘制一条余弦曲线，X取值范围是从1到10，每隔0.1取一个点"
   ]
  },
  {
   "cell_type": "markdown",
   "metadata": {},
   "source": [
    "2.加载数据“实习僧网站招聘_第6课.xlsx”，取出工作地点出现频次前十的数据，使用matplotlib绘制条形图，横轴为10个城市，纵轴为出现频次（招聘信息数量）"
   ]
  },
  {
   "cell_type": "markdown",
   "metadata": {},
   "source": [
    "3.使用pyecharts绘制条形图，横轴为10个城市，纵轴为出现频次（招聘信息数量），条形图颜色设置为“'#b2d235'”,并对结果给出分析"
   ]
  },
  {
   "cell_type": "markdown",
   "metadata": {},
   "source": [
    "4.使用groupby计算题目2中的10个地区的“最高工资”和“最低工资”的平均值，通过条形图将10个地区的最高工资和最低工资进行对比，使用标记点标出最大值和最小值，使用标记线标出平均值，并给出分析"
   ]
  },
  {
   "cell_type": "code",
   "execution_count": null,
   "metadata": {
    "collapsed": true
   },
   "outputs": [],
   "source": []
  }
 ],
 "metadata": {
  "kernelspec": {
   "display_name": "Python 3",
   "language": "python",
   "name": "python3"
  },
  "language_info": {
   "codemirror_mode": {
    "name": "ipython",
    "version": 3
   },
   "file_extension": ".py",
   "mimetype": "text/x-python",
   "name": "python",
   "nbconvert_exporter": "python",
   "pygments_lexer": "ipython3",
   "version": "3.6.3"
  }
 },
 "nbformat": 4,
 "nbformat_minor": 2
}
