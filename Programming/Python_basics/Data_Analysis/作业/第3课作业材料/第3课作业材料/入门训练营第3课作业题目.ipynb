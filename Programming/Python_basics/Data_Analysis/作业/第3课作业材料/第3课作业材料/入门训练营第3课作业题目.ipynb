{
 "cells": [
  {
   "cell_type": "markdown",
   "metadata": {},
   "source": [
    "1.定义一个函数，运行该函数后会连续打印三次：\"重要的事情说三遍！\""
   ]
  },
  {
   "cell_type": "code",
   "execution_count": 68,
   "metadata": {},
   "outputs": [
    {
     "name": "stdout",
     "output_type": "stream",
     "text": [
      "重要的事情说三遍! 重要的事情说三遍! 重要的事情说三遍! \n"
     ]
    }
   ],
   "source": [
    "def imp_repeat():\n",
    "    print(3*\"重要的事情说三遍! \") \n",
    "imp_repeat()  "
   ]
  },
  {
   "cell_type": "markdown",
   "metadata": {},
   "source": [
    "2.定义一个判断字符串的长度是否大于10的函数,并判断s='faldkjglkaj'长度是否大于10."
   ]
  },
  {
   "cell_type": "code",
   "execution_count": 6,
   "metadata": {},
   "outputs": [
    {
     "data": {
      "text/plain": [
       "True"
      ]
     },
     "execution_count": 6,
     "metadata": {},
     "output_type": "execute_result"
    }
   ],
   "source": [
    "def is_bigger(s):\n",
    "    return len(s)>10\n",
    "s='faldkjglkaj'\n",
    "is_bigger(s)"
   ]
  },
  {
   "cell_type": "markdown",
   "metadata": {},
   "source": [
    "3.利用函数标记一个列表，奇数标记为1，偶数标记为2，并且统计一下奇数和偶数的数量。\n",
    "例如：[1,4,2,4,2,9,5]，得到[1,2,2,2,2,1,1]"
   ]
  },
  {
   "cell_type": "code",
   "execution_count": 19,
   "metadata": {},
   "outputs": [],
   "source": [
    "def a_list(L):\n",
    "    nlst = []\n",
    "    for i in L:\n",
    "        if i%2 == 0:\n",
    "            nlst.append(2)\n",
    "        else:\n",
    "            nlst.append(1)\n",
    "    a = nlst.count(1)\n",
    "    b = nlst.count(2)\n",
    "    print(nlst)\n",
    "    print('the number of odd is %d' %a)\n",
    "    print('the number of even is %d' %b)"
   ]
  },
  {
   "cell_type": "code",
   "execution_count": 20,
   "metadata": {},
   "outputs": [
    {
     "name": "stdout",
     "output_type": "stream",
     "text": [
      "[1, 2, 2, 2, 2, 1, 1]\n",
      "the number of odd is 3\n",
      "the number of even is 4\n"
     ]
    }
   ],
   "source": [
    "L = [1,4,2,4,2,9,5]\n",
    "a_list(L)"
   ]
  },
  {
   "cell_type": "markdown",
   "metadata": {},
   "source": [
    "4.创建一个1到10的数组，然后逆序输出。"
   ]
  },
  {
   "cell_type": "code",
   "execution_count": 21,
   "metadata": {},
   "outputs": [],
   "source": [
    "import numpy as np"
   ]
  },
  {
   "cell_type": "code",
   "execution_count": 36,
   "metadata": {},
   "outputs": [
    {
     "data": {
      "text/plain": [
       "array([10,  9,  8,  7,  6,  5,  4,  3,  2,  1])"
      ]
     },
     "execution_count": 36,
     "metadata": {},
     "output_type": "execute_result"
    }
   ],
   "source": [
    "a = np.arange(1,11)\n",
    "a[::-1]"
   ]
  },
  {
   "cell_type": "markdown",
   "metadata": {},
   "source": [
    "5.从1到10中随机选取10个数，构成一个长度为10的数组，选出其中的奇数。"
   ]
  },
  {
   "cell_type": "code",
   "execution_count": 40,
   "metadata": {},
   "outputs": [
    {
     "name": "stdout",
     "output_type": "stream",
     "text": [
      "[10  3  6  1 10  4  1  5  8  5]\n",
      "[3, 1, 1, 5, 5]\n"
     ]
    }
   ],
   "source": [
    "b = np.random.randint(1,11,10)\n",
    "c = [i for i in b if i%2 != 0]\n",
    "print(b)\n",
    "print(c)"
   ]
  },
  {
   "cell_type": "markdown",
   "metadata": {},
   "source": [
    "6.从1到10中随机选取10个数，构成一个长度为10的数组，并将其排序。获取其最大值、最小值、求和、开根号、余弦值，如果结果为多小数的，保留2位小数。"
   ]
  },
  {
   "cell_type": "code",
   "execution_count": 42,
   "metadata": {},
   "outputs": [
    {
     "data": {
      "text/plain": [
       "array([1, 5, 3, 6, 7, 7, 5, 1, 4, 5])"
      ]
     },
     "execution_count": 42,
     "metadata": {},
     "output_type": "execute_result"
    }
   ],
   "source": [
    "b = np.random.randint(1,11,10)\n",
    "b"
   ]
  },
  {
   "cell_type": "code",
   "execution_count": 43,
   "metadata": {},
   "outputs": [
    {
     "data": {
      "text/plain": [
       "array([1, 1, 3, 4, 5, 5, 5, 6, 7, 7])"
      ]
     },
     "execution_count": 43,
     "metadata": {},
     "output_type": "execute_result"
    }
   ],
   "source": [
    "np.sort(b)"
   ]
  },
  {
   "cell_type": "code",
   "execution_count": 47,
   "metadata": {},
   "outputs": [
    {
     "name": "stdout",
     "output_type": "stream",
     "text": [
      "7\n",
      "1\n",
      "44\n",
      "[1.   2.24 1.73 2.45 2.65 2.65 2.24 1.   2.   2.24]\n",
      "[ 0.54  0.28 -0.99  0.96  0.75  0.75  0.28  0.54 -0.65  0.28]\n"
     ]
    }
   ],
   "source": [
    "print(np.max(b))\n",
    "print(np.min(b))\n",
    "print(np.sum(b))\n",
    "print(np.round(np.sqrt(b),2))\n",
    "print(np.round(np.cos(b),2))"
   ]
  },
  {
   "cell_type": "markdown",
   "metadata": {},
   "source": [
    "7.从1到10中随机选取10个数，大于3和小于8的取负数,所得结果存放在1个列表中"
   ]
  },
  {
   "cell_type": "code",
   "execution_count": 49,
   "metadata": {},
   "outputs": [
    {
     "name": "stdout",
     "output_type": "stream",
     "text": [
      "[3, 3, -5, 9, -4, 3, 1, 9, 9, 8]\n"
     ]
    }
   ],
   "source": [
    "b = np.random.randint(1,11,10)\n",
    "result = []\n",
    "for i in b:\n",
    "    if i>3 and i <8:\n",
    "        result.append(-i)\n",
    "    else:\n",
    "        result.append(i)\n",
    "print(result)"
   ]
  },
  {
   "cell_type": "markdown",
   "metadata": {},
   "source": [
    "### `可以用where完成这个吗？`"
   ]
  },
  {
   "cell_type": "markdown",
   "metadata": {},
   "source": [
    "8.创建一个长度为10并且除了第五个值为1其余的值为2的向量。"
   ]
  },
  {
   "cell_type": "code",
   "execution_count": 56,
   "metadata": {},
   "outputs": [
    {
     "data": {
      "text/plain": [
       "array([2, 2, 2, 2, 1, 2, 2, 2, 2, 2])"
      ]
     },
     "execution_count": 56,
     "metadata": {},
     "output_type": "execute_result"
    }
   ],
   "source": [
    "a = np.ones(10,dtype='int')\n",
    "b = a+1\n",
    "b[4] = 1\n",
    "b"
   ]
  },
  {
   "cell_type": "markdown",
   "metadata": {},
   "source": [
    "9.获取数组 a 和 b 中的共同项（索引位置相同，值也相同）。 a = np.array([1,2,3,2,3,4,3,4,5,6])，b = np.array([7,2,10,2,7,4,9,4,9,8])"
   ]
  },
  {
   "cell_type": "code",
   "execution_count": 61,
   "metadata": {},
   "outputs": [
    {
     "data": {
      "text/plain": [
       "array([2, 2, 4, 4])"
      ]
     },
     "execution_count": 61,
     "metadata": {},
     "output_type": "execute_result"
    }
   ],
   "source": [
    "a = np.array([1,2,3,2,3,4,3,4,5,6])\n",
    "b = np.array([7,2,10,2,7,4,9,4,9,8])\n",
    "a[np.where(a==b)]"
   ]
  }
 ],
 "metadata": {
  "kernelspec": {
   "display_name": "Python 3",
   "language": "python",
   "name": "python3"
  },
  "language_info": {
   "codemirror_mode": {
    "name": "ipython",
    "version": 3
   },
   "file_extension": ".py",
   "mimetype": "text/x-python",
   "name": "python",
   "nbconvert_exporter": "python",
   "pygments_lexer": "ipython3",
   "version": "3.7.3"
  }
 },
 "nbformat": 4,
 "nbformat_minor": 2
}
