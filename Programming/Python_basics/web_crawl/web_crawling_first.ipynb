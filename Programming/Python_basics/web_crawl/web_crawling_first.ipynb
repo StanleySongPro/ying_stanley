{
 "cells": [
  {
   "cell_type": "markdown",
   "metadata": {},
   "source": [
    "# Table of Contents\n",
    "* **[`3 Packages`](#0)**<br>\n",
    "    * **`request`**: download html rawdata\n",
    "    * **`BeautifulSoup`**: navigate through html\n",
    "    * **`Selenium`**: 模拟人类使用鼠标点击网页的行为，交互"
   ]
  },
  {
   "cell_type": "code",
   "execution_count": 39,
   "metadata": {},
   "outputs": [],
   "source": [
    "from bs4 import BeautifulSoup\n",
    "import requests\n",
    "import pandas as pd"
   ]
  },
  {
   "cell_type": "code",
   "execution_count": 6,
   "metadata": {
    "scrolled": true
   },
   "outputs": [],
   "source": [
    "#help(BeautifulSoup)"
   ]
  },
  {
   "cell_type": "code",
   "execution_count": 7,
   "metadata": {
    "scrolled": true
   },
   "outputs": [],
   "source": [
    "#help(requests)"
   ]
  },
  {
   "cell_type": "code",
   "execution_count": 40,
   "metadata": {},
   "outputs": [],
   "source": [
    "source = requests.get('http://coreyms.com')"
   ]
  },
  {
   "cell_type": "code",
   "execution_count": 41,
   "metadata": {},
   "outputs": [
    {
     "data": {
      "text/plain": [
       "200"
      ]
     },
     "execution_count": 41,
     "metadata": {},
     "output_type": "execute_result"
    }
   ],
   "source": [
    "source.status_code"
   ]
  },
  {
   "cell_type": "code",
   "execution_count": 9,
   "metadata": {
    "scrolled": true
   },
   "outputs": [],
   "source": [
    "#dir(source)"
   ]
  },
  {
   "cell_type": "code",
   "execution_count": 11,
   "metadata": {},
   "outputs": [],
   "source": [
    "#source.text"
   ]
  },
  {
   "cell_type": "code",
   "execution_count": 10,
   "metadata": {},
   "outputs": [
    {
     "data": {
      "text/plain": [
       "<bound method Response.json of <Response [200]>>"
      ]
     },
     "execution_count": 10,
     "metadata": {},
     "output_type": "execute_result"
    }
   ],
   "source": [
    "source.json"
   ]
  },
  {
   "cell_type": "code",
   "execution_count": 11,
   "metadata": {},
   "outputs": [
    {
     "data": {
      "text/plain": [
       "{'https://api.w.org/': {'url': 'https://coreyms.com/wp-json/',\n",
       "  'rel': 'https://api.w.org/'}}"
      ]
     },
     "execution_count": 11,
     "metadata": {},
     "output_type": "execute_result"
    }
   ],
   "source": [
    "source.links"
   ]
  },
  {
   "cell_type": "code",
   "execution_count": 13,
   "metadata": {},
   "outputs": [],
   "source": [
    "#source.content"
   ]
  },
  {
   "cell_type": "code",
   "execution_count": 12,
   "metadata": {},
   "outputs": [],
   "source": [
    "soup1 = BeautifulSoup(source.text, 'lxml')\n",
    "soup2 = BeautifulSoup(source.content, 'html.parser')"
   ]
  },
  {
   "cell_type": "code",
   "execution_count": 13,
   "metadata": {},
   "outputs": [
    {
     "name": "stdout",
     "output_type": "stream",
     "text": [
      "<title>CoreyMS - Development, Design, DIY, and more</title>\n"
     ]
    }
   ],
   "source": [
    "# get title\n",
    "match = soup1.title\n",
    "print(match)"
   ]
  },
  {
   "cell_type": "code",
   "execution_count": 14,
   "metadata": {},
   "outputs": [
    {
     "data": {
      "text/plain": [
       "'CoreyMS - Development, Design, DIY, and more'"
      ]
     },
     "execution_count": 14,
     "metadata": {},
     "output_type": "execute_result"
    }
   ],
   "source": [
    "# get only title info\n",
    "t1 = soup1.title.text\n",
    "t1"
   ]
  },
  {
   "cell_type": "code",
   "execution_count": 36,
   "metadata": {
    "scrolled": true
   },
   "outputs": [],
   "source": [
    "div1 = soup1.div"
   ]
  },
  {
   "cell_type": "code",
   "execution_count": 37,
   "metadata": {},
   "outputs": [],
   "source": [
    "# a more structual output\n",
    "#print(soup1.prettify())"
   ]
  },
  {
   "cell_type": "code",
   "execution_count": 35,
   "metadata": {},
   "outputs": [],
   "source": [
    "# find the specific part and make it the first article shown\n",
    "f = soup1.find(\"div\",class_=\"wrap\")"
   ]
  },
  {
   "cell_type": "code",
   "execution_count": 15,
   "metadata": {
    "scrolled": false
   },
   "outputs": [
    {
     "data": {
      "text/plain": [
       "False"
      ]
     },
     "execution_count": 15,
     "metadata": {},
     "output_type": "execute_result"
    }
   ],
   "source": [
    "soup1 == soup2"
   ]
  },
  {
   "cell_type": "code",
   "execution_count": 38,
   "metadata": {},
   "outputs": [
    {
     "name": "stdout",
     "output_type": "stream",
     "text": [
      "Python Multiprocessing Tutorial: Run Code in Parallel Using the Multiprocessing Module\n"
     ]
    }
   ],
   "source": [
    "headline = article.h2.a.text\n",
    "print(headline)"
   ]
  },
  {
   "cell_type": "code",
   "execution_count": 18,
   "metadata": {},
   "outputs": [
    {
     "data": {
      "text/plain": [
       "True"
      ]
     },
     "execution_count": 18,
     "metadata": {},
     "output_type": "execute_result"
    }
   ],
   "source": [
    "dir(soup1) ==dir(soup2)"
   ]
  },
  {
   "cell_type": "code",
   "execution_count": 19,
   "metadata": {
    "scrolled": true
   },
   "outputs": [
    {
     "data": {
      "text/plain": [
       "<article class=\"post-1642 post type-post status-publish format-standard has-post-thumbnail category-development category-python tag-development-environment tag-visual-studio-code tag-visual-studios tag-vs-code tag-vscode entry\" itemscope=\"\" itemtype=\"https://schema.org/CreativeWork\"><header class=\"entry-header\"><h2 class=\"entry-title\" itemprop=\"headline\"><a class=\"entry-title-link\" href=\"https://coreyms.com/development/python/visual-studio-code-windows-setting-up-a-python-development-environment-and-complete-overview\" rel=\"bookmark\">Visual Studio Code (Windows) – Setting up a Python Development Environment and Complete Overview</a></h2>\n",
       "<p class=\"entry-meta\"><time class=\"entry-time\" datetime=\"2019-05-01T14:03:24+00:00\" itemprop=\"datePublished\">May 1, 2019</time> by <span class=\"entry-author\" itemprop=\"author\" itemscope=\"\" itemtype=\"https://schema.org/Person\"><a class=\"entry-author-link\" href=\"https://coreyms.com/author/coreymschafer\" itemprop=\"url\" rel=\"author\"><span class=\"entry-author-name\" itemprop=\"name\">Corey Schafer</span></a></span> <span class=\"entry-comments-link\"><a href=\"https://coreyms.com/development/python/visual-studio-code-windows-setting-up-a-python-development-environment-and-complete-overview#respond\"><span class=\"dsq-postid\" data-dsqidentifier=\"1642 http://coreyms.com/?p=1642\">Leave a Comment</span></a></span> </p></header><div class=\"entry-content\" itemprop=\"text\">\n",
       "<p>In this Python Programming Tutorial, we will be learning how to set up a Python development environment in VSCode on Windows. VSCode is a very nice free editor for writing Python applications and many developers are now switching over to this editor. In this video, we will learn how to install VSCode, get the Python extension installed, how to change Python interpreters, create virtual environments, format/lint our code, how to use Git within VSCode, how to debug our programs, how unit testing works, and more. We have a lot to cover, so let’s go ahead and get started…</p>\n",
       "<p>VSCode on MacOS – https://youtu.be/06I63_p-2A4</p>\n",
       "<p>Timestamps for topics in this tutorial:<br/> Installation – 1:13<br/> Python Extension – 5:48<br/> Switching Interpreters – 10:04<br/> Changing Color Themes – 12:35<br/> VSCode Settings – 16:16<br/> Set Default Python – 21:33<br/> Using Virtual Environments – 25:10<br/> IntelliSense – 29:45<br/> Code Formatting – 32:13<br/> Code Linting – 37:06<br/> Code Runner Extension – 39:42<br/> Git Integration – 47:44<br/> Use Different Terminal – 51:07<br/> Debugging – 58:45<br/> Unit Testing – 1:03:25<br/> Zen Mode – 1:09:55</p>\n",
       "<figure class=\"wp-block-embed-youtube wp-block-embed is-type-video is-provider-youtube wp-embed-aspect-16-9 wp-has-aspect-ratio\"><div class=\"wp-block-embed__wrapper\">\n",
       "<span class=\"embed-youtube\" style=\"text-align:center; display: block;\"><iframe allowfullscreen=\"true\" class=\"youtube-player\" height=\"360\" src=\"https://www.youtube.com/embed/-nh9rCzPJ20?version=3&amp;rel=1&amp;fs=1&amp;autohide=2&amp;showsearch=0&amp;showinfo=1&amp;iv_load_policy=1&amp;wmode=transparent\" style=\"border:0;\" type=\"text/html\" width=\"640\"></iframe></span>\n",
       "</div></figure>\n",
       "</div><footer class=\"entry-footer\"><p class=\"entry-meta\"><span class=\"entry-categories\">Filed Under: <a href=\"https://coreyms.com/category/development\" rel=\"category tag\">Development</a>, <a href=\"https://coreyms.com/category/development/python\" rel=\"category tag\">Python</a></span> <span class=\"entry-tags\">Tagged With: <a href=\"https://coreyms.com/tag/development-environment\" rel=\"tag\">Development Environment</a>, <a href=\"https://coreyms.com/tag/visual-studio-code\" rel=\"tag\">visual studio code</a>, <a href=\"https://coreyms.com/tag/visual-studios\" rel=\"tag\">visual studios</a>, <a href=\"https://coreyms.com/tag/vs-code\" rel=\"tag\">vs code</a>, <a href=\"https://coreyms.com/tag/vscode\" rel=\"tag\">vscode</a></span></p></footer></article>"
      ]
     },
     "execution_count": 19,
     "metadata": {},
     "output_type": "execute_result"
    }
   ],
   "source": [
    "soup2.find(name='article')"
   ]
  },
  {
   "cell_type": "code",
   "execution_count": 20,
   "metadata": {},
   "outputs": [],
   "source": [
    "article2 = soup2.find(name='article')"
   ]
  },
  {
   "cell_type": "code",
   "execution_count": 21,
   "metadata": {},
   "outputs": [],
   "source": [
    "title2 = article2.find(name='h2', attrs={'class':'entry-title'})"
   ]
  },
  {
   "cell_type": "code",
   "execution_count": 22,
   "metadata": {},
   "outputs": [
    {
     "data": {
      "text/plain": [
       "'Visual Studio Code (Windows) – Setting up a Python Development Environment and Complete Overview'"
      ]
     },
     "execution_count": 22,
     "metadata": {},
     "output_type": "execute_result"
    }
   ],
   "source": [
    "title2.text"
   ]
  },
  {
   "cell_type": "code",
   "execution_count": 24,
   "metadata": {},
   "outputs": [
    {
     "name": "stdout",
     "output_type": "stream",
     "text": [
      "Help on method get_text in module bs4.element:\n",
      "\n",
      "get_text(separator='', strip=False, types=(<class 'bs4.element.NavigableString'>, <class 'bs4.element.CData'>)) method of bs4.element.Tag instance\n",
      "    Get all child strings, concatenated using the given separator.\n",
      "\n"
     ]
    }
   ],
   "source": [
    "help(title2.getText)"
   ]
  },
  {
   "cell_type": "code",
   "execution_count": 25,
   "metadata": {},
   "outputs": [
    {
     "data": {
      "text/plain": [
       "<bound method Tag.get_text of <h2 class=\"entry-title\" itemprop=\"headline\"><a class=\"entry-title-link\" href=\"https://coreyms.com/development/python/visual-studio-code-windows-setting-up-a-python-development-environment-and-complete-overview\" rel=\"bookmark\">Visual Studio Code (Windows) – Setting up a Python Development Environment and Complete Overview</a></h2>>"
      ]
     },
     "execution_count": 25,
     "metadata": {},
     "output_type": "execute_result"
    }
   ],
   "source": [
    "title2.getText"
   ]
  },
  {
   "cell_type": "code",
   "execution_count": 26,
   "metadata": {},
   "outputs": [
    {
     "data": {
      "text/plain": [
       "'Visual Studio Code (Windows) – Setting up a Python Development Environment and Complete Overview\\nMay 1, 2019 by Corey Schafer Leave a Comment \\nIn this Python Programming Tutorial, we will be learning how to set up a Python development environment in VSCode on Windows. VSCode is a very nice free editor for writing Python applications and many developers are now switching over to this editor. In this video, we will learn how to install VSCode, get the Python extension installed, how to change Python interpreters, create virtual environments, format/lint our code, how to use Git within VSCode, how to debug our programs, how unit testing works, and more. We have a lot to cover, so let’s go ahead and get started…\\nVSCode on MacOS – https://youtu.be/06I63_p-2A4\\nTimestamps for topics in this tutorial: Installation – 1:13 Python Extension – 5:48 Switching Interpreters – 10:04 Changing Color Themes – 12:35 VSCode Settings – 16:16 Set Default Python – 21:33 Using Virtual Environments – 25:10 IntelliSense – 29:45 Code Formatting – 32:13 Code Linting – 37:06 Code Runner Extension – 39:42 Git Integration – 47:44 Use Different Terminal – 51:07 Debugging – 58:45 Unit Testing – 1:03:25 Zen Mode – 1:09:55\\n\\n\\n\\nFiled Under: Development, Python Tagged With: Development Environment, visual studio code, visual studios, vs code, vscode'"
      ]
     },
     "execution_count": 26,
     "metadata": {},
     "output_type": "execute_result"
    }
   ],
   "source": [
    "article2.getText()"
   ]
  },
  {
   "cell_type": "code",
   "execution_count": 27,
   "metadata": {},
   "outputs": [
    {
     "data": {
      "text/plain": [
       "'Visual Studio Code (Windows) – Setting up a Python Development Environment and Complete Overview\\nMay 1, 2019 by Corey Schafer Leave a Comment \\nIn this Python Programming Tutorial, we will be learning how to set up a Python development environment in VSCode on Windows. VSCode is a very nice free editor for writing Python applications and many developers are now switching over to this editor. In this video, we will learn how to install VSCode, get the Python extension installed, how to change Python interpreters, create virtual environments, format/lint our code, how to use Git within VSCode, how to debug our programs, how unit testing works, and more. We have a lot to cover, so let’s go ahead and get started…\\nVSCode on MacOS – https://youtu.be/06I63_p-2A4\\nTimestamps for topics in this tutorial: Installation – 1:13 Python Extension – 5:48 Switching Interpreters – 10:04 Changing Color Themes – 12:35 VSCode Settings – 16:16 Set Default Python – 21:33 Using Virtual Environments – 25:10 IntelliSense – 29:45 Code Formatting – 32:13 Code Linting – 37:06 Code Runner Extension – 39:42 Git Integration – 47:44 Use Different Terminal – 51:07 Debugging – 58:45 Unit Testing – 1:03:25 Zen Mode – 1:09:55\\n\\n\\n\\nFiled Under: Development, Python Tagged With: Development Environment, visual studio code, visual studios, vs code, vscode'"
      ]
     },
     "execution_count": 27,
     "metadata": {},
     "output_type": "execute_result"
    }
   ],
   "source": [
    "article2.text"
   ]
  },
  {
   "cell_type": "code",
   "execution_count": 38,
   "metadata": {},
   "outputs": [
    {
     "data": {
      "text/html": [
       "<div>\n",
       "<style scoped>\n",
       "    .dataframe tbody tr th:only-of-type {\n",
       "        vertical-align: middle;\n",
       "    }\n",
       "\n",
       "    .dataframe tbody tr th {\n",
       "        vertical-align: top;\n",
       "    }\n",
       "\n",
       "    .dataframe thead th {\n",
       "        text-align: right;\n",
       "    }\n",
       "</style>\n",
       "<table border=\"1\" class=\"dataframe\">\n",
       "  <thead>\n",
       "    <tr style=\"text-align: right;\">\n",
       "      <th></th>\n",
       "      <th>title</th>\n",
       "      <th>date</th>\n",
       "    </tr>\n",
       "  </thead>\n",
       "  <tbody>\n",
       "  </tbody>\n",
       "</table>\n",
       "</div>"
      ],
      "text/plain": [
       "Empty DataFrame\n",
       "Columns: [title, date]\n",
       "Index: []"
      ]
     },
     "execution_count": 38,
     "metadata": {},
     "output_type": "execute_result"
    }
   ],
   "source": [
    "df_articles = pd.DataFrame(columns=['title','date'])\n",
    "df_articles"
   ]
  },
  {
   "cell_type": "code",
   "execution_count": 39,
   "metadata": {},
   "outputs": [],
   "source": [
    "articles = soup2.findAll(name='article')"
   ]
  },
  {
   "cell_type": "code",
   "execution_count": 40,
   "metadata": {},
   "outputs": [],
   "source": [
    "for i, article in enumerate(articles):\n",
    "    title = article.find(name='h2', attrs = {'class':'entry-title'}).text\n",
    "    df_articles.loc[i,'title'] = title\n",
    "    \n",
    "    header = article.find(name='header', attrs = {'class':'entry-header'})\n",
    "    time = header.find(name='time', attrs = {'class':'entry-time'})\n",
    "    time_text = time.text\n",
    "    time_date = time['datetime']\n",
    "    \n",
    "    df_articles.loc[i, 'date']=time_text+ time_date\n",
    "    \n",
    "    "
   ]
  },
  {
   "cell_type": "code",
   "execution_count": 41,
   "metadata": {},
   "outputs": [
    {
     "data": {
      "text/html": [
       "<div>\n",
       "<style scoped>\n",
       "    .dataframe tbody tr th:only-of-type {\n",
       "        vertical-align: middle;\n",
       "    }\n",
       "\n",
       "    .dataframe tbody tr th {\n",
       "        vertical-align: top;\n",
       "    }\n",
       "\n",
       "    .dataframe thead th {\n",
       "        text-align: right;\n",
       "    }\n",
       "</style>\n",
       "<table border=\"1\" class=\"dataframe\">\n",
       "  <thead>\n",
       "    <tr style=\"text-align: right;\">\n",
       "      <th></th>\n",
       "      <th>title</th>\n",
       "      <th>date</th>\n",
       "    </tr>\n",
       "  </thead>\n",
       "  <tbody>\n",
       "    <tr>\n",
       "      <th>0</th>\n",
       "      <td>Visual Studio Code (Windows) – Setting up a Py...</td>\n",
       "      <td>May 1, 20192019-05-01T14:03:24+00:00</td>\n",
       "    </tr>\n",
       "    <tr>\n",
       "      <th>1</th>\n",
       "      <td>Visual Studio Code (Mac) – Setting up a Python...</td>\n",
       "      <td>May 1, 20192019-05-01T14:01:45+00:00</td>\n",
       "    </tr>\n",
       "    <tr>\n",
       "      <th>2</th>\n",
       "      <td>Clarifying the Issues with Mutable Default Arg...</td>\n",
       "      <td>April 24, 20192019-04-24T11:46:42+00:00</td>\n",
       "    </tr>\n",
       "    <tr>\n",
       "      <th>3</th>\n",
       "      <td>5 Common Python Mistakes and How to Fix Them</td>\n",
       "      <td>April 22, 20192019-04-22T13:56:21+00:00</td>\n",
       "    </tr>\n",
       "    <tr>\n",
       "      <th>4</th>\n",
       "      <td>How I Setup a New Development Machine – Using ...</td>\n",
       "      <td>April 15, 20192019-04-15T15:03:50+00:00</td>\n",
       "    </tr>\n",
       "    <tr>\n",
       "      <th>5</th>\n",
       "      <td>How to Write Python Scripts to Analyze JSON AP...</td>\n",
       "      <td>April 9, 20192019-04-09T15:19:35+00:00</td>\n",
       "    </tr>\n",
       "    <tr>\n",
       "      <th>6</th>\n",
       "      <td>Homebrew Tutorial: Simplify Software Installat...</td>\n",
       "      <td>April 9, 20192019-04-09T13:26:14+00:00</td>\n",
       "    </tr>\n",
       "    <tr>\n",
       "      <th>7</th>\n",
       "      <td>Python Tutorial: VENV (Windows) – How to Use V...</td>\n",
       "      <td>April 6, 20192019-04-06T12:53:40+00:00</td>\n",
       "    </tr>\n",
       "    <tr>\n",
       "      <th>8</th>\n",
       "      <td>Python Tutorial: VENV (Mac &amp; Linux) – How to U...</td>\n",
       "      <td>April 6, 20192019-04-06T12:51:53+00:00</td>\n",
       "    </tr>\n",
       "    <tr>\n",
       "      <th>9</th>\n",
       "      <td>10 Python Tips and Tricks For Writing Better Code</td>\n",
       "      <td>March 25, 20192019-03-25T19:46:02+00:00</td>\n",
       "    </tr>\n",
       "  </tbody>\n",
       "</table>\n",
       "</div>"
      ],
      "text/plain": [
       "                                               title  \\\n",
       "0  Visual Studio Code (Windows) – Setting up a Py...   \n",
       "1  Visual Studio Code (Mac) – Setting up a Python...   \n",
       "2  Clarifying the Issues with Mutable Default Arg...   \n",
       "3       5 Common Python Mistakes and How to Fix Them   \n",
       "4  How I Setup a New Development Machine – Using ...   \n",
       "5  How to Write Python Scripts to Analyze JSON AP...   \n",
       "6  Homebrew Tutorial: Simplify Software Installat...   \n",
       "7  Python Tutorial: VENV (Windows) – How to Use V...   \n",
       "8  Python Tutorial: VENV (Mac & Linux) – How to U...   \n",
       "9  10 Python Tips and Tricks For Writing Better Code   \n",
       "\n",
       "                                      date  \n",
       "0     May 1, 20192019-05-01T14:03:24+00:00  \n",
       "1     May 1, 20192019-05-01T14:01:45+00:00  \n",
       "2  April 24, 20192019-04-24T11:46:42+00:00  \n",
       "3  April 22, 20192019-04-22T13:56:21+00:00  \n",
       "4  April 15, 20192019-04-15T15:03:50+00:00  \n",
       "5   April 9, 20192019-04-09T15:19:35+00:00  \n",
       "6   April 9, 20192019-04-09T13:26:14+00:00  \n",
       "7   April 6, 20192019-04-06T12:53:40+00:00  \n",
       "8   April 6, 20192019-04-06T12:51:53+00:00  \n",
       "9  March 25, 20192019-03-25T19:46:02+00:00  "
      ]
     },
     "execution_count": 41,
     "metadata": {},
     "output_type": "execute_result"
    }
   ],
   "source": [
    "df_articles"
   ]
  }
 ],
 "metadata": {
  "kernelspec": {
   "display_name": "Python 3",
   "language": "python",
   "name": "python3"
  },
  "language_info": {
   "codemirror_mode": {
    "name": "ipython",
    "version": 3
   },
   "file_extension": ".py",
   "mimetype": "text/x-python",
   "name": "python",
   "nbconvert_exporter": "python",
   "pygments_lexer": "ipython3",
   "version": "3.7.3"
  }
 },
 "nbformat": 4,
 "nbformat_minor": 2
}
