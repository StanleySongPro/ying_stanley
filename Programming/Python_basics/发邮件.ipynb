{
 "cells": [
  {
   "cell_type": "markdown",
   "metadata": {},
   "source": [
    "# 用python发邮件\n",
    "#### [https://zhuanlan.zhihu.com/p/57252226](https://zhuanlan.zhihu.com/p/57252226)"
   ]
  },
  {
   "cell_type": "markdown",
   "metadata": {},
   "source": [
    "### 安全连接\n",
    "#### SMTP_SSL() & .starttls()\n",
    "* Gmail的一个不错的功能是，你可以使用 + 号在@符号前面的电子邮件地址中添加任何修饰符。 例如，发送到 my+person1@gmail.com 和 my+person2@gmail.com 的邮件都将发送到 my@gmail.com 。 在测试电子邮件功能时，你可以使用此功能模拟所有指向同一收件箱的多个地址。\n",
    "* 你可以通过在命令提示符下输入以下内容来启动本地SMTP调试服务器：\n",
    "* python -m smtpd -c DebuggingServer -n localhost:1025"
   ]
  },
  {
   "cell_type": "markdown",
   "metadata": {},
   "source": [
    "#### 发送纯文本邮件\n",
    "* 选项1: 使用 SMPT_SSL()\n",
    "##### 使用 with smtplib.SMTP_SSL() as server 确保连接在缩进代码块的末尾自动关闭。 如果port为零或未指定，则 .SMTP_SSL() 将使用标准端口（端口465）。\n",
    "##### 将电子邮件密码存储在代码中并不安全，特别是如果你打算与他人共享。 相反，使用input() 让用户在运行脚本时输入密码，如上例所示。 如果你在输入时不希望密码显示在屏幕上，则可以导入 getpass 模块并使用 .getpass() 代替直接输入密码。"
   ]
  },
  {
   "cell_type": "code",
   "execution_count": 2,
   "metadata": {},
   "outputs": [],
   "source": [
    "# import smtplib, ssl\n",
    "\n",
    "# port = 465  # For SSL\n",
    "# password = input(\"Type your password and press enter: \")\n",
    "\n",
    "# # Create a secure SSL context\n",
    "# context = ssl.create_default_context()\n",
    "\n",
    "# with smtplib.SMTP_SSL(\"smtp.gmail.com\", port, context=context) as server:\n",
    "#     server.login(\"my@gmail.com\", password)\n",
    "#     # TODO: Send email here"
   ]
  },
  {
   "cell_type": "markdown",
   "metadata": {},
   "source": [
    "* 选项2: 使用 .starttls()\n",
    "##### 要通知服务器让它知道自己，应在创建 .SMTP() 对象后调用 .helo() （SMTP）或 .ehlo() （ESMTP），并在 .starttls() 后再调用。 此函数由 .starttls() 和 .sendmail() 隐式调用，因此除非你要检查服务器的SMTP服务扩展，否则不必显式调用 .helo() 或 .ehlo() "
   ]
  },
  {
   "cell_type": "code",
   "execution_count": 1,
   "metadata": {},
   "outputs": [
    {
     "name": "stdout",
     "output_type": "stream",
     "text": [
      "Type your password and press enter: odtxybaggivhsmle\n",
      "(535, b'5.7.8 Username and Password not accepted. Learn more at\\n5.7.8  https://support.google.com/mail/?p=BadCredentials r188sm4463579pfr.16 - gsmtp')\n"
     ]
    }
   ],
   "source": [
    "import smtplib, ssl\n",
    "\n",
    "smtp_server = \"smtp.gmail.com\"\n",
    "port = 587  # For starttls\n",
    "sender_email = \"my@gmail.com\"\n",
    "password = input(\"Type your password and press enter: \")\n",
    "receiver_email = \"your@gmail.com\"\n",
    "message = \"\"\"\\\n",
    "Subject: app test\n",
    "\n",
    "This message is sent from Python.\"\"\"\n",
    "\n",
    "# Create a secure SSL context\n",
    "context = ssl.create_default_context()\n",
    "\n",
    "# Try to log in to server and send email。为了确保再出现问题时代码不会崩溃，将主代码放到try中，让except将任何错误消息打印到 stdout\n",
    "try:\n",
    "    server = smtplib.SMTP(smtp_server,port)\n",
    "    server.ehlo() # Can be omitted\n",
    "    server.starttls(context=context) # Secure the connection\n",
    "    server.ehlo() # Can be omitted\n",
    "    server.login(sender_email, password)\n",
    "    # TODO: Send email here\n",
    "except Exception as e:\n",
    "    # Print any error messages to stdout\n",
    "    print(e)\n",
    "finally:\n",
    "    server.quit()"
   ]
  },
  {
   "cell_type": "markdown",
   "metadata": {},
   "source": [
    "### 发送纯文本邮件"
   ]
  },
  {
   "cell_type": "code",
   "execution_count": null,
   "metadata": {},
   "outputs": [],
   "source": [
    "server.sendmail(sender_email, receiver_email, message)"
   ]
  },
  {
   "cell_type": "markdown",
   "metadata": {},
   "source": [
    "#### SMTP_SSL() 发送纯文本电邮实例"
   ]
  },
  {
   "cell_type": "code",
   "execution_count": 4,
   "metadata": {},
   "outputs": [
    {
     "name": "stdout",
     "output_type": "stream",
     "text": [
      "type your password: rnqbtscrqmjzcvfz\n"
     ]
    }
   ],
   "source": [
    "import smtplib, ssl\n",
    "\n",
    "port = 465 #for SSL\n",
    "smtp_server = \"smtp.gmail.com\"\n",
    "sender_email = \"olivia19931019@gmail.com\"\n",
    "receiver_email = \"yanlaile1019@gmail.com\"\n",
    "password = input(\"type your password: \")\n",
    "message = \"\"\"\\\n",
    "Subject: App testing\n",
    "\n",
    "This message is sent from Python.\"\"\"\n",
    "\n",
    "context = ssl.create_default_context()\n",
    "with smtplib.SMTP_SSL(smtp_server, port, context = context) as server:\n",
    "    server.login(sender_email, password)\n",
    "    server.sendmail(sender_email, receiver_email, message)"
   ]
  },
  {
   "cell_type": "markdown",
   "metadata": {},
   "source": [
    "#### .starttls() 发送纯文本电邮实例"
   ]
  },
  {
   "cell_type": "code",
   "execution_count": 2,
   "metadata": {},
   "outputs": [
    {
     "name": "stdout",
     "output_type": "stream",
     "text": [
      "type your password: odtxybaggivhsmle\n"
     ]
    }
   ],
   "source": [
    "import smtplib, ssl\n",
    "\n",
    "port = 587 # for starttls\n",
    "smtp_server = \"smtp.gmail.com\"\n",
    "sender_email = \"yanlaile1019@gmail.com\"\n",
    "receiver_email = \"olivia19931019@gmail.com\"\n",
    "password = input(\"type your password: \")\n",
    "message = \"\"\"\\\n",
    "Subject: Hi App\n",
    "\n",
    "Love never fails!\"\"\"\n",
    "\n",
    "context = ssl.create_default_context()\n",
    "with smtplib.SMTP(smtp_server, port) as server:\n",
    "    server.ehlo()\n",
    "    server.starttls(context = context)\n",
    "    server.ehlo()\n",
    "    server.login(sender_email, password)\n",
    "    server.sendmail(sender_email, receiver_email, message)"
   ]
  },
  {
   "cell_type": "markdown",
   "metadata": {},
   "source": [
    "## 发送非纯文本邮件"
   ]
  },
  {
   "cell_type": "markdown",
   "metadata": {},
   "source": [
    "### 包含HTML内容\n",
    "* 常见电邮类型是MIME(多用途因特网邮件扩展)，它结合了HTML和纯文本；MIME消息由Python的email.mime模块处理\n",
    "* 由于并非所有电子邮件客户端都默认显示HTML内容，并且出于安全原因，有些人仅选择接收纯文本电子邮件，因此为HTML消息添加纯文本的替代非常重要。 由于电子邮件客户端将首先渲染最后一部分的附件，因此请确保在纯文本版本之后添加HTML消息。\n",
    "* MIMEMultipart(\"alternative\")实例将这些组合成一个带有两个备用渲染选项的消息"
   ]
  },
  {
   "cell_type": "code",
   "execution_count": 9,
   "metadata": {},
   "outputs": [
    {
     "name": "stdout",
     "output_type": "stream",
     "text": [
      "Type your pwd: Zhous_8875\n"
     ]
    }
   ],
   "source": [
    "import smtplib, ssl\n",
    "from email.mime.text import MIMEText\n",
    "from email.mime.multipart import MIMEMultipart\n",
    "\n",
    "sender_email = \"olivia19931019@gmail.com\"\n",
    "receiver_email = \"olivia19931019@gmail.com\"\n",
    "password = input(\"Type your pwd: \")\n",
    "\n",
    "message = MIMEMultipart(\"alternative\")\n",
    "message['Subject'] = \"multipart test\"\n",
    "message['From'] = sender_email\n",
    "message[\"To\"] = receiver_email\n",
    "\n",
    "# create the plain-text and HTML version of your message\n",
    "text = \"\"\"\\\n",
    "Hi,\n",
    "How are you?\n",
    "Real Python has many great tutorials:\n",
    "www.realpython.com\"\"\"\n",
    "html = \"\"\"\\\n",
    "<html>\n",
    "    <body>\n",
    "        <p>Hi,<br>\n",
    "            How are you?<br>\n",
    "            <a href = \"http://www.realpython.com\">Real Python</a>\n",
    "            has many great tutorials.\n",
    "        </p>\n",
    "    </body>\n",
    "</html>\n",
    "\"\"\"\n",
    "\n",
    "# Turn these into plain/html MIMEText objects\n",
    "part1 = MIMEText(text, \"plain\")\n",
    "part2 = MIMEText(html, \"html\")\n",
    "\n",
    "# Add HTML/plain-text parts to MIMEMultipart message\n",
    "# The email client will try to render the last part first\n",
    "message.attach(part1)\n",
    "message.attach(part2)\n",
    "\n",
    "# Create secure connection with server and send email\n",
    "context = ssl.create_default_context()\n",
    "with smtplib.SMTP_SSL(\"smtp.gmail.com\", 465, context = context) as server:\n",
    "    server.login(sender_email, password)\n",
    "    server.sendmail(\n",
    "    sender_email, receiver_email, message.as_string()\n",
    "    )"
   ]
  },
  {
   "cell_type": "markdown",
   "metadata": {},
   "source": [
    "### 使用email添加附件\n",
    "##### 为了将二进制文件发送到设计用于处理文本数据的电子邮件服务器，需要在传输之前对其进行编码。 这通常使用base64完成，它将二进制数据编码为可打印的ASCII字符。\n",
    "* 将pdf文件作为附件的实例\n",
    "* MIMEultipart() 接受RFC5233样式的键/值对形式的参数，这些参数存储在字典中并传递给 Message 基类的 .add_header方法。\n",
    "* 查看Python的 email.mime 模块的文档，了解有关使用MIME类的更多信息。"
   ]
  },
  {
   "cell_type": "code",
   "execution_count": 13,
   "metadata": {},
   "outputs": [
    {
     "name": "stdout",
     "output_type": "stream",
     "text": [
      "type: Zhous_8875\n"
     ]
    }
   ],
   "source": [
    "import email, smtplib, ssl\n",
    "\n",
    "from email import encoders\n",
    "from email.mime.base import MIMEBase\n",
    "from email.mime.multipart import MIMEMultipart\n",
    "from email.mime.text import MIMEText\n",
    "\n",
    "subject = \"An email with pdf attached from python\"\n",
    "body = \"This is an email with attached sent from Python\"\n",
    "sender_email = \"olivia19931019@gmail.com\"\n",
    "receiver_email = \"olivia19931019@gmail.com\"\n",
    "password = input(\"type: \")\n",
    "\n",
    "# Create a multipart message and set headers\n",
    "message = MIMEMultipart()\n",
    "message[\"From\"] = sender_email\n",
    "message[\"To\"] = receiver_email\n",
    "message[\"Subject\"] = subject\n",
    "message[\"Bcc\"] = receiver_email # recommended for mass emails\n",
    "\n",
    "# Add body to email\n",
    "message.attach(MIMEText(body, \"plain\"))\n",
    "\n",
    "filename = \"document.pdf\" # in same directory as script\n",
    "\n",
    "# open PDF file in binary mode\n",
    "with open(filename, \"rb\") as attachment:\n",
    "    # Add file as application/octet-stream\n",
    "    # Email client can usually download this automatically as attachment\n",
    "    part = MIMEBase(\"application\", \"octet-stream\")\n",
    "    part.set_payload(attachment.read())\n",
    "    \n",
    "# Encode file in ASCII characters to send by email\n",
    "encoders.encode_base64(part)\n",
    "\n",
    "# Add header as key/value pair to attachment part\n",
    "part.add_header(\n",
    "    \"Content-Disposition\",\n",
    "    f\"attachment; filename = {filename}\",\n",
    ")\n",
    "\n",
    "# Add attachment to message and convert message to string\n",
    "message.attach(part)\n",
    "text = message.as_string()\n",
    "\n",
    "# Log in to server using secure context and send email\n",
    "context = ssl.create_default_context()\n",
    "with smtplib.SMTP_SSL(\"smtp.gmail.com\", 465, context = context) as server:\n",
    "    server.login(sender_email, password)\n",
    "    server.sendmail(sender_email, receiver_email, text)"
   ]
  },
  {
   "cell_type": "markdown",
   "metadata": {},
   "source": [
    "### 发送多封个性化电子邮件"
   ]
  },
  {
   "cell_type": "code",
   "execution_count": null,
   "metadata": {},
   "outputs": [],
   "source": []
  },
  {
   "cell_type": "code",
   "execution_count": null,
   "metadata": {},
   "outputs": [],
   "source": []
  },
  {
   "cell_type": "code",
   "execution_count": null,
   "metadata": {},
   "outputs": [],
   "source": []
  }
 ],
 "metadata": {
  "kernelspec": {
   "display_name": "Python 3",
   "language": "python",
   "name": "python3"
  },
  "language_info": {
   "codemirror_mode": {
    "name": "ipython",
    "version": 3
   },
   "file_extension": ".py",
   "mimetype": "text/x-python",
   "name": "python",
   "nbconvert_exporter": "python",
   "pygments_lexer": "ipython3",
   "version": "3.7.3"
  }
 },
 "nbformat": 4,
 "nbformat_minor": 2
}
