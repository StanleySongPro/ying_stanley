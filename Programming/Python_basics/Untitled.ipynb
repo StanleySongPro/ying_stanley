{
 "cells": [
  {
   "cell_type": "markdown",
   "metadata": {},
   "source": [
    "# [Python Packages (and Modules)](https://medium.com/@butteredwaffles/python-packages-and-modules-explained-part-1-ff304c4f19dd)"
   ]
  },
  {
   "cell_type": "markdown",
   "metadata": {},
   "source": [
    "### Modules\n",
    "#### a text file and written Python code in it, you’ve created a module! A module is a file with a .py extension that can be imported into other modules, run by itself, or both.\n",
    "#### if __name__ == '__main__' in a few Python modules. __name__ is usually the variable holding the name of the module itself (so if you had a module called music.py, __name__ would hold music.) However, if you’re running the module directly through thepython command or some other means, __name__ will be __main__ instead. So when you see that `if statement`, it means that that block of code will only run if this module is being `run directly` (i.e. not imported.)"
   ]
  },
  {
   "cell_type": "markdown",
   "metadata": {},
   "source": [
    "### Packages\n",
    "#### Packages are collections of modules that you create and use.\n",
    "#### "
   ]
  }
 ],
 "metadata": {
  "kernelspec": {
   "display_name": "Python 3",
   "language": "python",
   "name": "python3"
  },
  "language_info": {
   "codemirror_mode": {
    "name": "ipython",
    "version": 3
   },
   "file_extension": ".py",
   "mimetype": "text/x-python",
   "name": "python",
   "nbconvert_exporter": "python",
   "pygments_lexer": "ipython3",
   "version": "3.7.3"
  }
 },
 "nbformat": 4,
 "nbformat_minor": 2
}
